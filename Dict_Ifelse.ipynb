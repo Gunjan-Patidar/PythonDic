{
 "cells": [
  {
   "cell_type": "code",
   "execution_count": 3,
   "id": "8a2b9f98-ab62-45e0-957b-11d849d0a529",
   "metadata": {},
   "outputs": [],
   "source": [
    "dic = {'key': \"gunjan\"}"
   ]
  },
  {
   "cell_type": "code",
   "execution_count": 4,
   "id": "c03f0521-46dc-4335-adc9-ae585909b8e0",
   "metadata": {},
   "outputs": [
    {
     "data": {
      "text/plain": [
       "{'key': 'gunjan'}"
      ]
     },
     "execution_count": 4,
     "metadata": {},
     "output_type": "execute_result"
    }
   ],
   "source": [
    "dic"
   ]
  },
  {
   "cell_type": "code",
   "execution_count": 15,
   "id": "75907bca-3709-4a44-84b5-a063f86fa30d",
   "metadata": {},
   "outputs": [],
   "source": [
    "d2 = {'name': 'Gunjan', 'email':'gunjan@gmail.com','number': 1471461241, True:3773, 'name': 'gunj'}"
   ]
  },
  {
   "cell_type": "code",
   "execution_count": 7,
   "id": "14d91db5-e6a5-4ca2-8cf4-060bdac1b230",
   "metadata": {},
   "outputs": [
    {
     "ename": "KeyError",
     "evalue": "0",
     "output_type": "error",
     "traceback": [
      "\u001b[1;31m---------------------------------------------------------------------------\u001b[0m",
      "\u001b[1;31mKeyError\u001b[0m                                  Traceback (most recent call last)",
      "Cell \u001b[1;32mIn[7], line 1\u001b[0m\n\u001b[1;32m----> 1\u001b[0m \u001b[43md2\u001b[49m\u001b[43m[\u001b[49m\u001b[38;5;241;43m0\u001b[39;49m\u001b[43m]\u001b[49m\n",
      "\u001b[1;31mKeyError\u001b[0m: 0"
     ]
    }
   ],
   "source": [
    "d2[0]"
   ]
  },
  {
   "cell_type": "code",
   "execution_count": 16,
   "id": "d418b6f4-1c8c-47a7-a952-b3ad3df40295",
   "metadata": {},
   "outputs": [
    {
     "data": {
      "text/plain": [
       "'gunj'"
      ]
     },
     "execution_count": 16,
     "metadata": {},
     "output_type": "execute_result"
    }
   ],
   "source": [
    "d2['name']   # Key should always be unique, key has the property to override."
   ]
  },
  {
   "cell_type": "code",
   "execution_count": 14,
   "id": "1dea4747-1d37-4a28-8fb9-883cd786d007",
   "metadata": {},
   "outputs": [
    {
     "data": {
      "text/plain": [
       "3773"
      ]
     },
     "execution_count": 14,
     "metadata": {},
     "output_type": "execute_result"
    }
   ],
   "source": [
    "d2[1]  # one is value value for True"
   ]
  },
  {
   "cell_type": "code",
   "execution_count": 17,
   "id": "066489ad-44ae-4765-847e-0766c1dbf5fd",
   "metadata": {},
   "outputs": [],
   "source": [
    "d3 = {\"company\" : \"pwskills\", \"course\":[\"web dev\",\"data sceince\"]}"
   ]
  },
  {
   "cell_type": "code",
   "execution_count": 18,
   "id": "734f0adb-7718-4d8e-95ef-c292f05246e6",
   "metadata": {},
   "outputs": [
    {
     "data": {
      "text/plain": [
       "['web dev', 'data sceince']"
      ]
     },
     "execution_count": 18,
     "metadata": {},
     "output_type": "execute_result"
    }
   ],
   "source": [
    "d3['course']"
   ]
  },
  {
   "cell_type": "code",
   "execution_count": 19,
   "id": "4d86b406-1a51-4b19-a976-0030f9d2739c",
   "metadata": {},
   "outputs": [
    {
     "data": {
      "text/plain": [
       "'data sceince'"
      ]
     },
     "execution_count": 19,
     "metadata": {},
     "output_type": "execute_result"
    }
   ],
   "source": [
    "d3['course'][1]"
   ]
  },
  {
   "cell_type": "code",
   "execution_count": 20,
   "id": "c0aa4623-5638-463b-b7df-b1beae4f85cf",
   "metadata": {},
   "outputs": [],
   "source": [
    "d4 = {\"number\": [2,4,3,34,4,5,33], \"assignment\" : (1,2,3,4,5,6,7),\"launch_date\": {23,24,24}}"
   ]
  },
  {
   "cell_type": "code",
   "execution_count": 22,
   "id": "5e239117-3677-40d1-a0d1-66740ca8eabf",
   "metadata": {},
   "outputs": [
    {
     "data": {
      "text/plain": [
       "{23, 24}"
      ]
     },
     "execution_count": 22,
     "metadata": {},
     "output_type": "execute_result"
    }
   ],
   "source": [
    "d4[\"launch_date\"]"
   ]
  },
  {
   "cell_type": "code",
   "execution_count": 23,
   "id": "23e28492-ea4d-4a47-92c0-6105223fe299",
   "metadata": {},
   "outputs": [],
   "source": [
    "d5 = {\"number\": [2,4,3,34,4,5,33], \"assignment\" : (1,2,3,4,5,6,7),\"launch_date\": {23,24,24},\"class_time\":{\"Web_dev\":8,\"data_sceince\":9}}"
   ]
  },
  {
   "cell_type": "code",
   "execution_count": 24,
   "id": "52bac0b5-3489-4ce8-a039-d70f63c5af59",
   "metadata": {},
   "outputs": [
    {
     "data": {
      "text/plain": [
       "{'number': [2, 4, 3, 34, 4, 5, 33],\n",
       " 'assignment': (1, 2, 3, 4, 5, 6, 7),\n",
       " 'launch_date': {23, 24},\n",
       " 'class_time': {'Web_dev': 8, 'data_sceince': 9}}"
      ]
     },
     "execution_count": 24,
     "metadata": {},
     "output_type": "execute_result"
    }
   ],
   "source": [
    "d5"
   ]
  },
  {
   "cell_type": "code",
   "execution_count": 25,
   "id": "8ccbb17e-3cd9-4e70-bbe6-55495e5c5425",
   "metadata": {},
   "outputs": [],
   "source": [
    "del d4[\"number\"]"
   ]
  },
  {
   "cell_type": "code",
   "execution_count": 26,
   "id": "273587d9-2e1b-40dd-adab-84864ce56347",
   "metadata": {},
   "outputs": [
    {
     "data": {
      "text/plain": [
       "{'assignment': (1, 2, 3, 4, 5, 6, 7), 'launch_date': {23, 24}}"
      ]
     },
     "execution_count": 26,
     "metadata": {},
     "output_type": "execute_result"
    }
   ],
   "source": [
    "d4"
   ]
  },
  {
   "cell_type": "code",
   "execution_count": 27,
   "id": "688d76df-3606-4efe-acb3-cb64eab628fb",
   "metadata": {},
   "outputs": [
    {
     "data": {
      "text/plain": [
       "['assignment', 'launch_date']"
      ]
     },
     "execution_count": 27,
     "metadata": {},
     "output_type": "execute_result"
    }
   ],
   "source": [
    "list(d4.keys())"
   ]
  },
  {
   "cell_type": "code",
   "execution_count": 28,
   "id": "6a598df9-b289-4b25-b55d-d23024050820",
   "metadata": {},
   "outputs": [
    {
     "data": {
      "text/plain": [
       "[[2, 4, 3, 34, 4, 5, 33],\n",
       " (1, 2, 3, 4, 5, 6, 7),\n",
       " {23, 24},\n",
       " {'Web_dev': 8, 'data_sceince': 9}]"
      ]
     },
     "execution_count": 28,
     "metadata": {},
     "output_type": "execute_result"
    }
   ],
   "source": [
    "list(d5.values())"
   ]
  },
  {
   "cell_type": "code",
   "execution_count": 29,
   "id": "c51889af-894e-4ccc-93d8-bd85ce00bc27",
   "metadata": {},
   "outputs": [
    {
     "data": {
      "text/plain": [
       "dict_items([('number', [2, 4, 3, 34, 4, 5, 33]), ('assignment', (1, 2, 3, 4, 5, 6, 7)), ('launch_date', {24, 23}), ('class_time', {'Web_dev': 8, 'data_sceince': 9})])"
      ]
     },
     "execution_count": 29,
     "metadata": {},
     "output_type": "execute_result"
    }
   ],
   "source": [
    "d5.items()"
   ]
  },
  {
   "cell_type": "code",
   "execution_count": 30,
   "id": "e28aa7ed-1b63-4e77-93f4-26623b4594ba",
   "metadata": {},
   "outputs": [
    {
     "data": {
      "text/plain": [
       "[('number', [2, 4, 3, 34, 4, 5, 33]),\n",
       " ('assignment', (1, 2, 3, 4, 5, 6, 7)),\n",
       " ('launch_date', {23, 24}),\n",
       " ('class_time', {'Web_dev': 8, 'data_sceince': 9})]"
      ]
     },
     "execution_count": 30,
     "metadata": {},
     "output_type": "execute_result"
    }
   ],
   "source": [
    "list(d5.items())"
   ]
  },
  {
   "cell_type": "code",
   "execution_count": 32,
   "id": "0dfd12f4-5817-4463-820f-63e892fda4d7",
   "metadata": {},
   "outputs": [
    {
     "ename": "KeyError",
     "evalue": "slice('nubmber', 23, None)",
     "output_type": "error",
     "traceback": [
      "\u001b[1;31m---------------------------------------------------------------------------\u001b[0m",
      "\u001b[1;31mKeyError\u001b[0m                                  Traceback (most recent call last)",
      "Cell \u001b[1;32mIn[32], line 1\u001b[0m\n\u001b[1;32m----> 1\u001b[0m \u001b[43md4\u001b[49m\u001b[43m[\u001b[49m\u001b[38;5;124;43m\"\u001b[39;49m\u001b[38;5;124;43mnubmber\u001b[39;49m\u001b[38;5;124;43m\"\u001b[39;49m\u001b[43m:\u001b[49m\u001b[38;5;241;43m23\u001b[39;49m\u001b[43m]\u001b[49m\n",
      "\u001b[1;31mKeyError\u001b[0m: slice('nubmber', 23, None)"
     ]
    }
   ],
   "source": [
    "d4[\"nubmber\":23]"
   ]
  },
  {
   "cell_type": "code",
   "execution_count": 34,
   "id": "231b01a6-3448-4bd7-a36b-01d81b173231",
   "metadata": {},
   "outputs": [
    {
     "data": {
      "text/plain": [
       "[2, 4, 3, 34, 4, 5, 33]"
      ]
     },
     "execution_count": 34,
     "metadata": {},
     "output_type": "execute_result"
    }
   ],
   "source": [
    "d5.pop(\"number\")"
   ]
  },
  {
   "cell_type": "code",
   "execution_count": 35,
   "id": "a03ba8ff-e01a-4233-bb29-993497d269c2",
   "metadata": {},
   "outputs": [
    {
     "data": {
      "text/plain": [
       "{'assignment': (1, 2, 3, 4, 5, 6, 7),\n",
       " 'launch_date': {23, 24},\n",
       " 'class_time': {'Web_dev': 8, 'data_sceince': 9}}"
      ]
     },
     "execution_count": 35,
     "metadata": {},
     "output_type": "execute_result"
    }
   ],
   "source": [
    "d5"
   ]
  },
  {
   "cell_type": "code",
   "execution_count": 6,
   "id": "3d033019-2d9b-4ad7-b418-79177dafa765",
   "metadata": {},
   "outputs": [
    {
     "name": "stdin",
     "output_type": "stream",
     "text": [
      "enter your marks: 100\n"
     ]
    },
    {
     "name": "stdout",
     "output_type": "stream",
     "text": [
      "you will be a part of A0 batch\n"
     ]
    }
   ],
   "source": [
    "marks = int(input(\"enter your marks:\"   ))\n",
    "#marks = -234\n",
    "if marks >= 80:\n",
    "    print(\"you will be a part of A0 batch\")\n",
    "elif marks >= 60 and marks < 80:\n",
    "    print(\"you will be a part of A1 batch\")\n",
    "elif marks >= 40 and marks <60:\n",
    "    print(\"you will be a part of A2 batch\")\n",
    "else :\n",
    "    print(\"you will be a part of A3 batch\")"
   ]
  },
  {
   "cell_type": "code",
   "execution_count": 9,
   "id": "eddcd643-ff25-4d24-8d31-c570a0dcdcc4",
   "metadata": {},
   "outputs": [
    {
     "name": "stdin",
     "output_type": "stream",
     "text": [
      "Enter you price:  200\n"
     ]
    },
    {
     "name": "stdout",
     "output_type": "stream",
     "text": [
      "I will purchase\n"
     ]
    }
   ],
   "source": [
    "price = int(input(\"Enter you price: \"))\n",
    "if price > 1000:\n",
    "    print(\"I will not purchase\")\n",
    "else: \n",
    "    print(\"I will purchase\")\n",
    "    "
   ]
  },
  {
   "cell_type": "code",
   "execution_count": 10,
   "id": "6015d5f4-fc11-4ce5-afbe-f7e4afbfd92b",
   "metadata": {},
   "outputs": [
    {
     "name": "stdin",
     "output_type": "stream",
     "text": [
      "Enter you price:  200\n"
     ]
    }
   ],
   "source": [
    "price = int(input(\"Enter you price: \"))\n",
    "if price > 1000:\n",
    "    print(\"I will not purchase\")"
   ]
  },
  {
   "cell_type": "code",
   "execution_count": 12,
   "id": "797db8f6-35cf-4f56-adde-e92caf7b1c57",
   "metadata": {},
   "outputs": [
    {
     "name": "stdin",
     "output_type": "stream",
     "text": [
      "Enter you price:  7000\n"
     ]
    },
    {
     "name": "stdout",
     "output_type": "stream",
     "text": [
      "I will not purchase\n",
      "this is too much\n"
     ]
    }
   ],
   "source": [
    "price = int(input(\"Enter you price: \"))\n",
    "if price > 1000:\n",
    "    print(\"I will not purchase\")\n",
    "    if price > 5000:\n",
    "        print(\"this is too much\")\n",
    "    elif price < 2000:\n",
    "        print(\"its okay\")\n",
    "else: \n",
    "    print(\"I will purchase\")"
   ]
  },
  {
   "cell_type": "code",
   "execution_count": 13,
   "id": "7bec0cb7-29ec-4e5a-8bb8-c69981afcf40",
   "metadata": {},
   "outputs": [],
   "source": [
    "l = [1,2,3,3,4,5,6,7,8]"
   ]
  },
  {
   "cell_type": "code",
   "execution_count": 14,
   "id": "c52494f9-6b2c-49ae-9fb1-7bdf381f985e",
   "metadata": {},
   "outputs": [
    {
     "data": {
      "text/plain": [
       "2"
      ]
     },
     "execution_count": 14,
     "metadata": {},
     "output_type": "execute_result"
    }
   ],
   "source": [
    "l[0] +1"
   ]
  },
  {
   "cell_type": "code",
   "execution_count": 15,
   "id": "f4050438-da8c-4651-a07a-e3e5aad00f4e",
   "metadata": {},
   "outputs": [],
   "source": [
    "l1 = []"
   ]
  },
  {
   "cell_type": "code",
   "execution_count": 16,
   "id": "2f5a73ca-c988-4424-a1d5-b8769d5f29ce",
   "metadata": {},
   "outputs": [],
   "source": [
    "l1.append(l[0]+1)"
   ]
  },
  {
   "cell_type": "code",
   "execution_count": 17,
   "id": "e60265a0-7d45-47af-bb85-abc3492941e1",
   "metadata": {},
   "outputs": [
    {
     "data": {
      "text/plain": [
       "[2]"
      ]
     },
     "execution_count": 17,
     "metadata": {},
     "output_type": "execute_result"
    }
   ],
   "source": [
    "l1"
   ]
  },
  {
   "cell_type": "code",
   "execution_count": 19,
   "id": "569c49e9-5106-438f-89cb-5ebb221f4676",
   "metadata": {},
   "outputs": [],
   "source": [
    "l = [1,2,3,3,4,5,6,7,8]\n"
   ]
  },
  {
   "cell_type": "code",
   "execution_count": 20,
   "id": "b410df2b-ffa6-4ab3-af84-3654fde91966",
   "metadata": {},
   "outputs": [
    {
     "name": "stdout",
     "output_type": "stream",
     "text": [
      "1\n",
      "2\n",
      "3\n",
      "3\n",
      "4\n",
      "5\n",
      "6\n",
      "7\n",
      "8\n"
     ]
    }
   ],
   "source": [
    "for i in l:\n",
    "    print(i)"
   ]
  },
  {
   "cell_type": "code",
   "execution_count": 23,
   "id": "018a3819-bf3a-4db1-9521-1ac2b84ed374",
   "metadata": {},
   "outputs": [
    {
     "name": "stdout",
     "output_type": "stream",
     "text": [
      "2\n",
      "3\n",
      "4\n",
      "4\n",
      "5\n",
      "6\n",
      "7\n",
      "8\n",
      "9\n"
     ]
    }
   ],
   "source": [
    "l1 = []\n",
    "for i in l:\n",
    "    print(i+1)\n",
    "    l1.append(i +1)"
   ]
  },
  {
   "cell_type": "code",
   "execution_count": 24,
   "id": "441fec51-7e41-4d9d-850e-25f74d762a4e",
   "metadata": {},
   "outputs": [
    {
     "data": {
      "text/plain": [
       "[2, 3, 4, 4, 5, 6, 7, 8, 9]"
      ]
     },
     "execution_count": 24,
     "metadata": {},
     "output_type": "execute_result"
    }
   ],
   "source": [
    "l1"
   ]
  },
  {
   "cell_type": "code",
   "execution_count": 25,
   "id": "8147fa5b-accb-4640-8909-cc22b41a7f4a",
   "metadata": {},
   "outputs": [],
   "source": [
    "l = [\"gunjan\", \"Patidar\", \"pwskills\", \"courses\"]"
   ]
  },
  {
   "cell_type": "code",
   "execution_count": 28,
   "id": "934fc47e-fc21-4a0c-9811-1ec154fdc7e1",
   "metadata": {},
   "outputs": [
    {
     "name": "stdout",
     "output_type": "stream",
     "text": [
      "GUNJAN\n",
      "PATIDAR\n",
      "PWSKILLS\n",
      "COURSES\n"
     ]
    }
   ],
   "source": [
    "l1 = []\n",
    "for i in l:\n",
    "    print(i.upper())\n",
    "    l1.append(i.upper())"
   ]
  },
  {
   "cell_type": "code",
   "execution_count": 29,
   "id": "ccb3f6dc-85e2-4fa0-bb43-ba40a8430286",
   "metadata": {},
   "outputs": [
    {
     "data": {
      "text/plain": [
       "['GUNJAN', 'PATIDAR', 'PWSKILLS', 'COURSES']"
      ]
     },
     "execution_count": 29,
     "metadata": {},
     "output_type": "execute_result"
    }
   ],
   "source": [
    "l1"
   ]
  },
  {
   "cell_type": "code",
   "execution_count": 50,
   "id": "37365eae-c24e-4f91-a03a-5d7def614bc2",
   "metadata": {},
   "outputs": [],
   "source": [
    "l = [1,2,34,4,5,3,\"gunjan\",\"patidar\",34,32423,\"abc\"]"
   ]
  },
  {
   "cell_type": "code",
   "execution_count": 51,
   "id": "cada6ed6-84d6-4a22-9249-8ebc90fe17c2",
   "metadata": {},
   "outputs": [
    {
     "data": {
      "text/plain": [
       "[1, 2, 34, 4, 5, 3, 'gunjan', 'patidar', 34, 32423, 'abc']"
      ]
     },
     "execution_count": 51,
     "metadata": {},
     "output_type": "execute_result"
    }
   ],
   "source": [
    "l"
   ]
  },
  {
   "cell_type": "code",
   "execution_count": 32,
   "id": "6dd4b6ca-7e96-41ff-8189-ec18ffd77da2",
   "metadata": {},
   "outputs": [],
   "source": [
    "#req = make the separate list from the list l for String and Interger.\n"
   ]
  },
  {
   "cell_type": "code",
   "execution_count": 52,
   "id": "fc4d9a7e-4070-4053-8768-721dfc06f57d",
   "metadata": {},
   "outputs": [],
   "source": [
    "l1_num =[]\n",
    "l2_str = []\n",
    "for i in l:\n",
    "    if type(i) == int or type(i) == float:\n",
    "        l1_num.append(i)\n",
    "    else :\n",
    "        l2_str.append(i)"
   ]
  },
  {
   "cell_type": "code",
   "execution_count": 54,
   "id": "fd4ab636-99fe-41c9-8f37-9dfeebe557ff",
   "metadata": {},
   "outputs": [
    {
     "data": {
      "text/plain": [
       "[1, 2, 34, 4, 5, 3, 34, 32423]"
      ]
     },
     "execution_count": 54,
     "metadata": {},
     "output_type": "execute_result"
    }
   ],
   "source": [
    "l1_num"
   ]
  },
  {
   "cell_type": "code",
   "execution_count": 55,
   "id": "0ee5c5a6-983f-46c6-af21-b852e72ae6d9",
   "metadata": {},
   "outputs": [
    {
     "data": {
      "text/plain": [
       "['gunjan', 'patidar', 'abc']"
      ]
     },
     "execution_count": 55,
     "metadata": {},
     "output_type": "execute_result"
    }
   ],
   "source": [
    "l2_str"
   ]
  },
  {
   "cell_type": "code",
   "execution_count": null,
   "id": "69cc4e45-2d22-4b58-abeb-57ec73645dc9",
   "metadata": {},
   "outputs": [],
   "source": []
  }
 ],
 "metadata": {
  "kernelspec": {
   "display_name": "Python 3 (ipykernel)",
   "language": "python",
   "name": "python3"
  },
  "language_info": {
   "codemirror_mode": {
    "name": "ipython",
    "version": 3
   },
   "file_extension": ".py",
   "mimetype": "text/x-python",
   "name": "python",
   "nbconvert_exporter": "python",
   "pygments_lexer": "ipython3",
   "version": "3.12.2"
  }
 },
 "nbformat": 4,
 "nbformat_minor": 5
}
