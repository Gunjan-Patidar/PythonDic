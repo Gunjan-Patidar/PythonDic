{
 "cells": [
  {
   "cell_type": "code",
   "execution_count": 3,
   "id": "73a1cc21-3f71-4d2a-9816-06982e573645",
   "metadata": {},
   "outputs": [],
   "source": [
    "class test:\n",
    "    \n",
    "    def __init__(self, a, b):\n",
    "        self.a = a\n",
    "        self.b = b"
   ]
  },
  {
   "cell_type": "code",
   "execution_count": 4,
   "id": "d1ce02db-ae25-4620-bf24-47b20f67ee53",
   "metadata": {},
   "outputs": [],
   "source": [
    "t = test(223,43)"
   ]
  },
  {
   "cell_type": "code",
   "execution_count": 5,
   "id": "09fd3cbb-d984-4a6c-b2a9-0b322eed9c0f",
   "metadata": {},
   "outputs": [],
   "source": [
    "t.a = 232131"
   ]
  },
  {
   "cell_type": "code",
   "execution_count": 6,
   "id": "2670a021-164e-420d-97ef-de0d6a1e19ec",
   "metadata": {},
   "outputs": [
    {
     "data": {
      "text/plain": [
       "232131"
      ]
     },
     "execution_count": 6,
     "metadata": {},
     "output_type": "execute_result"
    }
   ],
   "source": [
    "t.a #user is able to change the variable value."
   ]
  },
  {
   "cell_type": "code",
   "execution_count": 7,
   "id": "db8d56cc-06ec-49ba-bd07-8108f026b807",
   "metadata": {},
   "outputs": [],
   "source": [
    "#encapsulation does not display the private variables, preventing the modification of the variables.\n"
   ]
  },
  {
   "cell_type": "code",
   "execution_count": 8,
   "id": "3b288254-70fa-4ad3-aff9-1fb8d8832b4f",
   "metadata": {},
   "outputs": [],
   "source": [
    "class car:\n",
    "    def __init__(self, year, make, model, speed):\n",
    "        self.__year = year  \n",
    "        self.__make = make\n",
    "        self.__model = model\n",
    "        self.__Speed = 0"
   ]
  },
  {
   "cell_type": "code",
   "execution_count": 9,
   "id": "3a9b0235-a3dc-4ae2-883a-5e3c25ce5839",
   "metadata": {},
   "outputs": [],
   "source": [
    "c = car(2025, \"toyata\", \"inova\", 12)"
   ]
  },
  {
   "cell_type": "code",
   "execution_count": 11,
   "id": "e81c7b49-43a3-467a-8426-53169b309529",
   "metadata": {},
   "outputs": [
    {
     "ename": "AttributeError",
     "evalue": "'car' object has no attribute '__year'",
     "output_type": "error",
     "traceback": [
      "\u001b[1;31m---------------------------------------------------------------------------\u001b[0m",
      "\u001b[1;31mAttributeError\u001b[0m                            Traceback (most recent call last)",
      "Cell \u001b[1;32mIn[11], line 1\u001b[0m\n\u001b[1;32m----> 1\u001b[0m \u001b[43mc\u001b[49m\u001b[38;5;241;43m.\u001b[39;49m\u001b[43m__year\u001b[49m\n",
      "\u001b[1;31mAttributeError\u001b[0m: 'car' object has no attribute '__year'"
     ]
    }
   ],
   "source": [
    "c.__year"
   ]
  },
  {
   "cell_type": "code",
   "execution_count": 12,
   "id": "8809c0d6-4fe6-45ae-bc5d-9d408f6bf856",
   "metadata": {},
   "outputs": [
    {
     "data": {
      "text/plain": [
       "2025"
      ]
     },
     "execution_count": 12,
     "metadata": {},
     "output_type": "execute_result"
    }
   ],
   "source": [
    "c._car__year"
   ]
  },
  {
   "cell_type": "code",
   "execution_count": 15,
   "id": "e0a2bc0c-c06c-442f-a7f6-48b24eeacb93",
   "metadata": {},
   "outputs": [
    {
     "data": {
      "text/plain": [
       "0"
      ]
     },
     "execution_count": 15,
     "metadata": {},
     "output_type": "execute_result"
    }
   ],
   "source": [
    "c._car__Speed"
   ]
  },
  {
   "cell_type": "code",
   "execution_count": 16,
   "id": "62a5f86a-bec0-4be9-b62a-ec44664f3bff",
   "metadata": {},
   "outputs": [
    {
     "data": {
      "text/plain": [
       "2025"
      ]
     },
     "execution_count": 16,
     "metadata": {},
     "output_type": "execute_result"
    }
   ],
   "source": [
    "c._car__year"
   ]
  },
  {
   "cell_type": "code",
   "execution_count": 28,
   "id": "3c09b099-ff08-4939-a014-eec2c64a875f",
   "metadata": {},
   "outputs": [],
   "source": [
    "class car:\n",
    "    def __init__(self, year, make, model, speed):\n",
    "        self.__year = year  \n",
    "        self.__make = make\n",
    "        self.__model = model\n",
    "        self.__speed = 0\n",
    "\n",
    "    def set_speed(self, speed):\n",
    "        self.__speed = 0 if speed  <0 else speed\n",
    "\n",
    "    def get_speed(self):\n",
    "        return self.__speed"
   ]
  },
  {
   "cell_type": "code",
   "execution_count": 29,
   "id": "97ba2637-dd28-4574-99ce-924898962314",
   "metadata": {},
   "outputs": [],
   "source": [
    "c = car(2025, \"toyata\", \"inova\", 12)"
   ]
  },
  {
   "cell_type": "code",
   "execution_count": 30,
   "id": "3b3ddd25-3656-4d1d-a4dd-5ff26e53e5a2",
   "metadata": {},
   "outputs": [],
   "source": [
    "c.set_speed(2312)"
   ]
  },
  {
   "cell_type": "code",
   "execution_count": 32,
   "id": "3560a3d9-04f0-4fe5-8254-41ab3c3f1158",
   "metadata": {},
   "outputs": [
    {
     "data": {
      "text/plain": [
       "2312"
      ]
     },
     "execution_count": 32,
     "metadata": {},
     "output_type": "execute_result"
    }
   ],
   "source": [
    "c.get_speed()"
   ]
  },
  {
   "cell_type": "code",
   "execution_count": 33,
   "id": "cde7af9b-18c5-4196-a537-ac8bc9012c66",
   "metadata": {},
   "outputs": [],
   "source": [
    "c.set_speed(-2312)"
   ]
  },
  {
   "cell_type": "code",
   "execution_count": 34,
   "id": "042ee494-5532-4f82-bb9a-81458dd1c0ce",
   "metadata": {},
   "outputs": [
    {
     "data": {
      "text/plain": [
       "0"
      ]
     },
     "execution_count": 34,
     "metadata": {},
     "output_type": "execute_result"
    }
   ],
   "source": [
    "c.get_speed()"
   ]
  },
  {
   "cell_type": "code",
   "execution_count": 36,
   "id": "1a633de8-048a-4b94-85c6-07c2aba7b966",
   "metadata": {},
   "outputs": [],
   "source": [
    "class bank_account :\n",
    "\n",
    "    def __init__(self, balance):\n",
    "        self.__balance = balance\n",
    "\n",
    "    def deposit(self, amount):\n",
    "        self.__balance = self.__balance + amount\n",
    "\n",
    "    def withdraw(self, amount):\n",
    "        if self.__balance >= amount :\n",
    "            self.__balance = self.__balance - amount\n",
    "            return True\n",
    "        else :\n",
    "            return False\n",
    "\n",
    "    def get_balance(self):\n",
    "        return self.__balance"
   ]
  },
  {
   "cell_type": "code",
   "execution_count": 37,
   "id": "1650b480-0131-4c14-8198-22d9099b935b",
   "metadata": {},
   "outputs": [],
   "source": [
    "gunj = bank_account(1000)"
   ]
  },
  {
   "cell_type": "code",
   "execution_count": 38,
   "id": "53fa45b5-fa0f-4b90-a583-d751e5b121ec",
   "metadata": {},
   "outputs": [
    {
     "data": {
      "text/plain": [
       "1000"
      ]
     },
     "execution_count": 38,
     "metadata": {},
     "output_type": "execute_result"
    }
   ],
   "source": [
    "gunj.get_balance()"
   ]
  },
  {
   "cell_type": "code",
   "execution_count": 39,
   "id": "bc4c2431-c57c-4d4d-9ae5-6f0cdff2fe75",
   "metadata": {},
   "outputs": [],
   "source": [
    "gunj.deposit(5000)"
   ]
  },
  {
   "cell_type": "code",
   "execution_count": 40,
   "id": "04b7fb2d-2fa8-45c2-b001-3b79537bd3e4",
   "metadata": {},
   "outputs": [
    {
     "data": {
      "text/plain": [
       "6000"
      ]
     },
     "execution_count": 40,
     "metadata": {},
     "output_type": "execute_result"
    }
   ],
   "source": [
    "gunj.get_balance()"
   ]
  },
  {
   "cell_type": "code",
   "execution_count": 41,
   "id": "c32bd276-63f9-427e-b606-e675c53ae3ab",
   "metadata": {},
   "outputs": [
    {
     "data": {
      "text/plain": [
       "False"
      ]
     },
     "execution_count": 41,
     "metadata": {},
     "output_type": "execute_result"
    }
   ],
   "source": [
    "gunj.withdraw(7000)"
   ]
  },
  {
   "cell_type": "code",
   "execution_count": 42,
   "id": "d70cc662-cc40-4fd0-a8f6-d9d700b79a37",
   "metadata": {},
   "outputs": [
    {
     "data": {
      "text/plain": [
       "True"
      ]
     },
     "execution_count": 42,
     "metadata": {},
     "output_type": "execute_result"
    }
   ],
   "source": [
    "gunj.withdraw(4000)"
   ]
  },
  {
   "cell_type": "code",
   "execution_count": 43,
   "id": "a8661a2e-6f26-4387-a821-7d6d07a59cc8",
   "metadata": {},
   "outputs": [
    {
     "data": {
      "text/plain": [
       "2000"
      ]
     },
     "execution_count": 43,
     "metadata": {},
     "output_type": "execute_result"
    }
   ],
   "source": [
    "gunj.get_balance()"
   ]
  },
  {
   "cell_type": "code",
   "execution_count": null,
   "id": "f0addf47-5852-48d4-8262-c758b523ace4",
   "metadata": {},
   "outputs": [],
   "source": []
  }
 ],
 "metadata": {
  "kernelspec": {
   "display_name": "Python 3 (ipykernel)",
   "language": "python",
   "name": "python3"
  },
  "language_info": {
   "codemirror_mode": {
    "name": "ipython",
    "version": 3
   },
   "file_extension": ".py",
   "mimetype": "text/x-python",
   "name": "python",
   "nbconvert_exporter": "python",
   "pygments_lexer": "ipython3",
   "version": "3.12.2"
  }
 },
 "nbformat": 4,
 "nbformat_minor": 5
}
