{
 "cells": [
  {
   "cell_type": "code",
   "execution_count": 1,
   "id": "d79834b6-9d6b-42df-a97a-ab9b146269d7",
   "metadata": {},
   "outputs": [],
   "source": [
    "import io"
   ]
  },
  {
   "cell_type": "code",
   "execution_count": 7,
   "id": "e2c27f45-97af-4f56-8fee-339ad37c9dc5",
   "metadata": {},
   "outputs": [],
   "source": [
    "with open(\"test1.txt\",'wb') as f:\n",
    "    file = io.BufferedWriter(f)\n",
    "\n",
    "    file.write(b\"this is my first line\\n\")\n",
    "    file.write(b\"this is my second line\\n\")\n",
    "    file.flush()\n"
   ]
  },
  {
   "cell_type": "code",
   "execution_count": 8,
   "id": "a88985d9-5e77-4d7d-bf8b-8643f22a7559",
   "metadata": {},
   "outputs": [],
   "source": [
    "#we can write and read the data in chunks with the help of Buffer"
   ]
  },
  {
   "cell_type": "code",
   "execution_count": 11,
   "id": "78575c88-56d0-4390-a45a-63ce7eac3812",
   "metadata": {},
   "outputs": [
    {
     "name": "stdout",
     "output_type": "stream",
     "text": [
      "b'this is my'\n"
     ]
    }
   ],
   "source": [
    "with open(\"test1.txt\",'rb') as f:\n",
    "    file = io.BufferedReader(f)\n",
    "\n",
    "    print(file.read(10))"
   ]
  },
  {
   "cell_type": "code",
   "execution_count": null,
   "id": "cd69c9e9-689e-4eed-99e1-b412eee5bea2",
   "metadata": {},
   "outputs": [],
   "source": []
  }
 ],
 "metadata": {
  "kernelspec": {
   "display_name": "Python 3 (ipykernel)",
   "language": "python",
   "name": "python3"
  },
  "language_info": {
   "codemirror_mode": {
    "name": "ipython",
    "version": 3
   },
   "file_extension": ".py",
   "mimetype": "text/x-python",
   "name": "python",
   "nbconvert_exporter": "python",
   "pygments_lexer": "ipython3",
   "version": "3.12.2"
  }
 },
 "nbformat": 4,
 "nbformat_minor": 5
}
