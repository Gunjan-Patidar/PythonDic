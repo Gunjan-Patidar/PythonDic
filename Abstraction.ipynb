{
 "cells": [
  {
   "cell_type": "code",
   "execution_count": 5,
   "id": "091be04e-3f8b-48f0-a74c-648d868495c9",
   "metadata": {},
   "outputs": [],
   "source": [
    "import abc\n",
    "class pwskills:\n",
    "    \n",
    "    @abc.abstractmethod\n",
    "    def student_details(self):\n",
    "        pass\n",
    "    @abc.abstractmethod\n",
    "    def student_assignment(Self):\n",
    "        pass\n",
    "\n",
    "    @abc.abstractmethod\n",
    "    def student_mark(self):\n",
    "        pass"
   ]
  },
  {
   "cell_type": "code",
   "execution_count": 6,
   "id": "ec9da8b4-59ce-4485-9fc8-e4f2d5296b97",
   "metadata": {},
   "outputs": [],
   "source": [
    "class student_details(pwskills):\n",
    "\n",
    "    def student_details(self):\n",
    "        return \"this is a meth for taking students' details\"\n",
    "\n",
    "    def student_assignment(Self):\n",
    "        return \"This is a meth for taking students' assignments\"\n"
   ]
  },
  {
   "cell_type": "code",
   "execution_count": 7,
   "id": "708df517-bb7a-4b16-9689-f5b8c80fa5e4",
   "metadata": {},
   "outputs": [],
   "source": [
    "class data_science_maters(pwskills):\n",
    "\n",
    "    def student_details(self):\n",
    "        return \"This will return a student's details for data science masters\"\n",
    "\n",
    "    def student_assignment(self):\n",
    "        return \"This will return a student assignment for data science masters\"\n",
    "\n",
    "        "
   ]
  },
  {
   "cell_type": "code",
   "execution_count": 8,
   "id": "6c5b6c8f-db88-4423-993a-d390d43a5ade",
   "metadata": {},
   "outputs": [],
   "source": [
    "dsm = data_science_maters()"
   ]
  },
  {
   "cell_type": "code",
   "execution_count": 9,
   "id": "a4959430-931a-49c7-b26e-7188aecbc8bb",
   "metadata": {},
   "outputs": [
    {
     "data": {
      "text/plain": [
       "\"This will return a student's details for data science masters\""
      ]
     },
     "execution_count": 9,
     "metadata": {},
     "output_type": "execute_result"
    }
   ],
   "source": [
    "dsm.student_details()"
   ]
  },
  {
   "cell_type": "code",
   "execution_count": 10,
   "id": "77b72ee2-261e-4e8a-83c9-0f3e4197aa1f",
   "metadata": {},
   "outputs": [],
   "source": [
    "sd = student_details()"
   ]
  },
  {
   "cell_type": "code",
   "execution_count": 11,
   "id": "be41d61c-b6c5-4a8f-a552-43b69f949053",
   "metadata": {},
   "outputs": [
    {
     "data": {
      "text/plain": [
       "\"this is a meth for taking students' details\""
      ]
     },
     "execution_count": 11,
     "metadata": {},
     "output_type": "execute_result"
    }
   ],
   "source": [
    "sd.student_details()"
   ]
  },
  {
   "cell_type": "code",
   "execution_count": null,
   "id": "6e2ac3ca-2166-4e1f-a8d7-55e35309e12c",
   "metadata": {},
   "outputs": [],
   "source": []
  }
 ],
 "metadata": {
  "kernelspec": {
   "display_name": "Python 3 (ipykernel)",
   "language": "python",
   "name": "python3"
  },
  "language_info": {
   "codemirror_mode": {
    "name": "ipython",
    "version": 3
   },
   "file_extension": ".py",
   "mimetype": "text/x-python",
   "name": "python",
   "nbconvert_exporter": "python",
   "pygments_lexer": "ipython3",
   "version": "3.12.2"
  }
 },
 "nbformat": 4,
 "nbformat_minor": 5
}
