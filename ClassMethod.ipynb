{
 "cells": [
  {
   "cell_type": "code",
   "execution_count": 12,
   "id": "ac6fe0f6-535e-4a8a-81e3-65110cacc28a",
   "metadata": {},
   "outputs": [],
   "source": [
    "class pwskills1:\n",
    "\n",
    "    Mobile_num = 24324324\n",
    "    \n",
    "    def __init__(self, name, email):\n",
    "        self.name = name\n",
    "        self.email = email\n",
    "\n",
    "    def change_mobile_num(cls, mobile):\n",
    "        pwskills1.Mobile_num = mobile\n",
    "\n",
    "    @classmethod\n",
    "    def details(cls, name, email):\n",
    "        return cls(name, email)\n",
    "\n",
    "    def students_detail(self):\n",
    "        print(self.name,self.email)"
   ]
  },
  {
   "cell_type": "code",
   "execution_count": 13,
   "id": "5f25f515-1410-4563-a76e-bc8dd39a16d6",
   "metadata": {},
   "outputs": [],
   "source": [
    "pw1 = pwskills1.details(\"gunjan\",\"gunjan@gmail.com\")"
   ]
  },
  {
   "cell_type": "code",
   "execution_count": 4,
   "id": "f188f033-5641-4537-9cae-594a78cb7a97",
   "metadata": {},
   "outputs": [
    {
     "data": {
      "text/plain": [
       "'gunjan'"
      ]
     },
     "execution_count": 4,
     "metadata": {},
     "output_type": "execute_result"
    }
   ],
   "source": [
    "pw1.name"
   ]
  },
  {
   "cell_type": "code",
   "execution_count": 6,
   "id": "4731ecb4-34c7-4936-9b87-6ea45f040090",
   "metadata": {},
   "outputs": [
    {
     "name": "stdout",
     "output_type": "stream",
     "text": [
      "gunjan gunjan@gmail.com\n"
     ]
    }
   ],
   "source": [
    "pw1.students_detail()"
   ]
  },
  {
   "cell_type": "code",
   "execution_count": 7,
   "id": "2de6aa05-ccd9-4538-9965-11f4e38c537a",
   "metadata": {},
   "outputs": [],
   "source": [
    "#A class method in Python is a function that's bound to a class, not to an instance of that class. This means that a class method can be called without creating an object of the class."
   ]
  },
  {
   "cell_type": "code",
   "execution_count": 11,
   "id": "f805b81c-053e-4c5d-8b15-778510fc3b52",
   "metadata": {},
   "outputs": [
    {
     "data": {
      "text/plain": [
       "24324324"
      ]
     },
     "execution_count": 11,
     "metadata": {},
     "output_type": "execute_result"
    }
   ],
   "source": [
    "pw1.Mobile_num"
   ]
  },
  {
   "cell_type": "code",
   "execution_count": 15,
   "id": "9caa9b72-e92c-41e8-9722-38c936d16e74",
   "metadata": {},
   "outputs": [],
   "source": [
    "pw1.change_mobile_num(34553453)\n"
   ]
  },
  {
   "cell_type": "code",
   "execution_count": 16,
   "id": "697a4f33-f51f-4d5f-970c-fc625cfbbd5f",
   "metadata": {},
   "outputs": [
    {
     "data": {
      "text/plain": [
       "34553453"
      ]
     },
     "execution_count": 16,
     "metadata": {},
     "output_type": "execute_result"
    }
   ],
   "source": [
    "pw1.Mobile_num"
   ]
  },
  {
   "cell_type": "code",
   "execution_count": null,
   "id": "f1499495-cc64-406d-8bab-506abca3e732",
   "metadata": {},
   "outputs": [],
   "source": []
  }
 ],
 "metadata": {
  "kernelspec": {
   "display_name": "Python 3 (ipykernel)",
   "language": "python",
   "name": "python3"
  },
  "language_info": {
   "codemirror_mode": {
    "name": "ipython",
    "version": 3
   },
   "file_extension": ".py",
   "mimetype": "text/x-python",
   "name": "python",
   "nbconvert_exporter": "python",
   "pygments_lexer": "ipython3",
   "version": "3.12.2"
  }
 },
 "nbformat": 4,
 "nbformat_minor": 5
}
