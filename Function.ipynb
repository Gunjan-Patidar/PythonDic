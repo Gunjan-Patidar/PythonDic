{
 "cells": [
  {
   "cell_type": "code",
   "execution_count": 1,
   "id": "a49dd2e0-d781-4ff5-950c-ac39ed24f362",
   "metadata": {},
   "outputs": [
    {
     "name": "stdout",
     "output_type": "stream",
     "text": [
      "this is my print\n"
     ]
    }
   ],
   "source": [
    "print(\"this is my print\")"
   ]
  },
  {
   "cell_type": "code",
   "execution_count": 2,
   "id": "be04931b-e134-4edb-a378-7b3262c80078",
   "metadata": {},
   "outputs": [],
   "source": [
    "# function\n",
    "def test():\n",
    "    pass"
   ]
  },
  {
   "cell_type": "code",
   "execution_count": 4,
   "id": "7083128f-7e06-49b7-9cd4-abff2cfa2c08",
   "metadata": {},
   "outputs": [],
   "source": [
    "def test1():\n",
    "    print(\"this is my first funct\")"
   ]
  },
  {
   "cell_type": "code",
   "execution_count": 5,
   "id": "486a77a4-70b8-43ed-9e9e-2d7108aed823",
   "metadata": {},
   "outputs": [
    {
     "name": "stdout",
     "output_type": "stream",
     "text": [
      "this is my first funct\n"
     ]
    }
   ],
   "source": [
    "test1() "
   ]
  },
  {
   "cell_type": "code",
   "execution_count": 13,
   "id": "045f03e5-011b-47b9-9d0d-72dc33c9bdcf",
   "metadata": {},
   "outputs": [
    {
     "name": "stdout",
     "output_type": "stream",
     "text": [
      "this is my first funct\n"
     ]
    },
    {
     "ename": "TypeError",
     "evalue": "unsupported operand type(s) for +: 'NoneType' and 'str'",
     "output_type": "error",
     "traceback": [
      "\u001b[1;31m---------------------------------------------------------------------------\u001b[0m",
      "\u001b[1;31mTypeError\u001b[0m                                 Traceback (most recent call last)",
      "Cell \u001b[1;32mIn[13], line 1\u001b[0m\n\u001b[1;32m----> 1\u001b[0m \u001b[43mtest1\u001b[49m\u001b[43m(\u001b[49m\u001b[43m)\u001b[49m\u001b[43m \u001b[49m\u001b[38;5;241;43m+\u001b[39;49m\u001b[43m \u001b[49m\u001b[38;5;124;43m\"\u001b[39;49m\u001b[38;5;124;43mgunjan\u001b[39;49m\u001b[38;5;124;43m\"\u001b[39;49m\n",
      "\u001b[1;31mTypeError\u001b[0m: unsupported operand type(s) for +: 'NoneType' and 'str'"
     ]
    }
   ],
   "source": [
    "test1() + \"gunjan\""
   ]
  },
  {
   "cell_type": "code",
   "execution_count": 6,
   "id": "ddd67d00-15d3-465b-b27a-94f07c6f6953",
   "metadata": {},
   "outputs": [],
   "source": [
    "# 1. Increase reusability "
   ]
  },
  {
   "cell_type": "code",
   "execution_count": 11,
   "id": "61102425-ebb4-4b0f-bcb8-20b9ff1f50f6",
   "metadata": {},
   "outputs": [],
   "source": [
    "# print return none type, so we can not perform any function on return That's why we do not use print in the function\n"
   ]
  },
  {
   "cell_type": "code",
   "execution_count": 8,
   "id": "1bf71449-c4be-4472-9c9b-fea11360d0d4",
   "metadata": {},
   "outputs": [],
   "source": [
    "def test2():\n",
    "    return \"this is my frist return\""
   ]
  },
  {
   "cell_type": "code",
   "execution_count": 10,
   "id": "54c3147f-7a30-4c00-b4b3-cdf2d4b1dc90",
   "metadata": {},
   "outputs": [
    {
     "data": {
      "text/plain": [
       "'this is my frist return'"
      ]
     },
     "execution_count": 10,
     "metadata": {},
     "output_type": "execute_result"
    }
   ],
   "source": [
    "test2()"
   ]
  },
  {
   "cell_type": "code",
   "execution_count": 12,
   "id": "18b8884e-7872-4f1a-88da-c629d6a8cef8",
   "metadata": {},
   "outputs": [
    {
     "data": {
      "text/plain": [
       "'this is my frist returngunjan'"
      ]
     },
     "execution_count": 12,
     "metadata": {},
     "output_type": "execute_result"
    }
   ],
   "source": [
    "test2() + \"gunjan\""
   ]
  },
  {
   "cell_type": "code",
   "execution_count": 14,
   "id": "ac4ef281-e63b-461c-bb08-2414f21846f6",
   "metadata": {},
   "outputs": [],
   "source": [
    "def test3():\n",
    "    return \"gunjan\", 12,23,54.3,[3,3,3,3]"
   ]
  },
  {
   "cell_type": "code",
   "execution_count": 15,
   "id": "61213017-e2ed-441e-88ac-42ef4363f06f",
   "metadata": {},
   "outputs": [
    {
     "data": {
      "text/plain": [
       "('gunjan', 12, 23, 54.3, [3, 3, 3, 3])"
      ]
     },
     "execution_count": 15,
     "metadata": {},
     "output_type": "execute_result"
    }
   ],
   "source": [
    "test3()"
   ]
  },
  {
   "cell_type": "code",
   "execution_count": 17,
   "id": "8fda5ea2-c478-48c2-95cf-424e034bf69e",
   "metadata": {},
   "outputs": [],
   "source": [
    "a,b,c,d, e= test3()"
   ]
  },
  {
   "cell_type": "code",
   "execution_count": 18,
   "id": "1a10d48b-e208-42ca-afcd-f403bed60461",
   "metadata": {},
   "outputs": [
    {
     "data": {
      "text/plain": [
       "'gunjan'"
      ]
     },
     "execution_count": 18,
     "metadata": {},
     "output_type": "execute_result"
    }
   ],
   "source": [
    "a"
   ]
  },
  {
   "cell_type": "code",
   "execution_count": 19,
   "id": "5a799aab-3816-4256-823a-15dc52f7f8df",
   "metadata": {},
   "outputs": [
    {
     "data": {
      "text/plain": [
       "12"
      ]
     },
     "execution_count": 19,
     "metadata": {},
     "output_type": "execute_result"
    }
   ],
   "source": [
    "b"
   ]
  },
  {
   "cell_type": "code",
   "execution_count": 22,
   "id": "5dcdcda4-4739-4848-85f5-2d5357461f56",
   "metadata": {},
   "outputs": [
    {
     "data": {
      "text/plain": [
       "3"
      ]
     },
     "execution_count": 22,
     "metadata": {},
     "output_type": "execute_result"
    }
   ],
   "source": [
    "e[0]"
   ]
  },
  {
   "cell_type": "code",
   "execution_count": 24,
   "id": "9e388ae3-cb12-4a7b-8108-a94e55852b5d",
   "metadata": {},
   "outputs": [],
   "source": [
    "def test4():\n",
    "    a = 5+6/7\n",
    "    return a"
   ]
  },
  {
   "cell_type": "code",
   "execution_count": 25,
   "id": "ab56ec9b-28da-4260-b5dc-ae7bc13c810e",
   "metadata": {},
   "outputs": [
    {
     "data": {
      "text/plain": [
       "5.857142857142857"
      ]
     },
     "execution_count": 25,
     "metadata": {},
     "output_type": "execute_result"
    }
   ],
   "source": [
    "test4()"
   ]
  },
  {
   "cell_type": "code",
   "execution_count": 26,
   "id": "53d165a6-9107-4050-a954-501265d1acb2",
   "metadata": {},
   "outputs": [],
   "source": [
    "def test5(a,b,c):\n",
    "    d = a+b/c\n",
    "    return d"
   ]
  },
  {
   "cell_type": "code",
   "execution_count": 28,
   "id": "9b29631f-491f-4df0-9e32-be223201c045",
   "metadata": {},
   "outputs": [
    {
     "data": {
      "text/plain": [
       "3.333333333333333"
      ]
     },
     "execution_count": 28,
     "metadata": {},
     "output_type": "execute_result"
    }
   ],
   "source": [
    "test5(2,4,3)"
   ]
  },
  {
   "cell_type": "code",
   "execution_count": 29,
   "id": "c4a206d3-f3e1-403e-9c29-62b7fde99db5",
   "metadata": {},
   "outputs": [],
   "source": [
    "def test6(a,b):\n",
    "    return a+b\n",
    "    "
   ]
  },
  {
   "cell_type": "code",
   "execution_count": 30,
   "id": "8256aeb8-c8d9-426e-941b-960dbacf2262",
   "metadata": {},
   "outputs": [
    {
     "data": {
      "text/plain": [
       "49"
      ]
     },
     "execution_count": 30,
     "metadata": {},
     "output_type": "execute_result"
    }
   ],
   "source": [
    "test6(4,45)"
   ]
  },
  {
   "cell_type": "code",
   "execution_count": 31,
   "id": "d5ee7f8d-0af8-4b01-a6d0-5be69352eec5",
   "metadata": {},
   "outputs": [
    {
     "data": {
      "text/plain": [
       "'gunjanpatidar'"
      ]
     },
     "execution_count": 31,
     "metadata": {},
     "output_type": "execute_result"
    }
   ],
   "source": [
    "test6(\"gunjan\",\"patidar\")"
   ]
  },
  {
   "cell_type": "code",
   "execution_count": 34,
   "id": "e623f9db-ae75-42fb-a1e3-34b3f3795cf9",
   "metadata": {},
   "outputs": [
    {
     "data": {
      "text/plain": [
       "[2, 3, 3, 2, 3, 3, 32, 3, 2]"
      ]
     },
     "execution_count": 34,
     "metadata": {},
     "output_type": "execute_result"
    }
   ],
   "source": [
    "test6([2,3,3,2,3,3],[32,3,2])"
   ]
  },
  {
   "cell_type": "code",
   "execution_count": 35,
   "id": "8213be3f-441d-4e4a-923e-2489fe8bcb6c",
   "metadata": {},
   "outputs": [],
   "source": [
    "l = [2,23,3,32,2, \"gunjan\",\"patidar\",[4,3,3,2,2,4]]"
   ]
  },
  {
   "cell_type": "code",
   "execution_count": 71,
   "id": "a0d8160a-ccb6-4fde-a6c9-c2a5e751ab18",
   "metadata": {},
   "outputs": [
    {
     "data": {
      "text/plain": [
       "[2, 23, 3, 32, 2, 'gunjan', 'patidar', [4, 3, 3, 2, 2, 4]]"
      ]
     },
     "execution_count": 71,
     "metadata": {},
     "output_type": "execute_result"
    }
   ],
   "source": [
    "l"
   ]
  },
  {
   "cell_type": "code",
   "execution_count": 42,
   "id": "e7dea56c-4cd7-4fd8-8f7c-1926d02624cd",
   "metadata": {},
   "outputs": [],
   "source": [
    "l1 = []\n",
    "for i in l:\n",
    "    if type(i) == int or type(i) ==float:\n",
    "        l1.append(i)\n"
   ]
  },
  {
   "cell_type": "code",
   "execution_count": 43,
   "id": "95190076-262f-4095-92ad-9d44d729dd89",
   "metadata": {},
   "outputs": [
    {
     "data": {
      "text/plain": [
       "[2, 23, 3, 32, 2]"
      ]
     },
     "execution_count": 43,
     "metadata": {},
     "output_type": "execute_result"
    }
   ],
   "source": [
    "l1"
   ]
  },
  {
   "cell_type": "code",
   "execution_count": 44,
   "id": "4a7a8314-ee89-413c-90a0-2f0a2be368aa",
   "metadata": {},
   "outputs": [],
   "source": [
    "def test7(l):\n",
    "    l1 = []\n",
    "    for i in l:\n",
    "       if type(i) == int or type(i) ==float:\n",
    "            l1.append(i)\n",
    "    return l1"
   ]
  },
  {
   "cell_type": "code",
   "execution_count": 45,
   "id": "1f59972d-f3b0-4ab9-8e3c-ef4d6c27a16e",
   "metadata": {},
   "outputs": [
    {
     "data": {
      "text/plain": [
       "[2, 23, 3, 32, 2]"
      ]
     },
     "execution_count": 45,
     "metadata": {},
     "output_type": "execute_result"
    }
   ],
   "source": [
    "l1"
   ]
  },
  {
   "cell_type": "code",
   "execution_count": 88,
   "id": "e1f12381-2ac2-4584-9c57-4fc8ee897b6d",
   "metadata": {},
   "outputs": [],
   "source": [
    "def test8(l) :\n",
    "    \"\"\"this is my function to extract num data from list\"\"\"\n",
    "    l1 = []\n",
    "    for i in l:\n",
    "         if type(i) == list:\n",
    "             for j in i:\n",
    "                 l1.append(j)\n",
    "         else:\n",
    "             if type(i) == int or type(i) ==float:\n",
    "                  l1.append(i)\n",
    "    return l1"
   ]
  },
  {
   "cell_type": "code",
   "execution_count": 90,
   "id": "92df0d5e-a3ad-44fa-89b4-15eb72ae9707",
   "metadata": {},
   "outputs": [
    {
     "data": {
      "text/plain": [
       "[2, 23, 3, 32, 2, 4, 3, 3, 2, 2, 4]"
      ]
     },
     "execution_count": 90,
     "metadata": {},
     "output_type": "execute_result"
    }
   ],
   "source": [
    "test8(l)"
   ]
  },
  {
   "cell_type": "code",
   "execution_count": 91,
   "id": "cffd5d31-0158-4e82-b7db-550c7b0d0c27",
   "metadata": {},
   "outputs": [],
   "source": [
    "def test11(*args):\n",
    "    return args"
   ]
  },
  {
   "cell_type": "code",
   "execution_count": 92,
   "id": "cab99f8b-83bc-4603-8f61-1a450e2710e3",
   "metadata": {},
   "outputs": [
    {
     "data": {
      "text/plain": [
       "tuple"
      ]
     },
     "execution_count": 92,
     "metadata": {},
     "output_type": "execute_result"
    }
   ],
   "source": [
    "type(test11())"
   ]
  },
  {
   "cell_type": "code",
   "execution_count": 93,
   "id": "e7e0e87a-c5fd-405a-bd81-1705d283fc6e",
   "metadata": {},
   "outputs": [
    {
     "data": {
      "text/plain": [
       "('gunjan', 322, 324, 2, 34, 44)"
      ]
     },
     "execution_count": 93,
     "metadata": {},
     "output_type": "execute_result"
    }
   ],
   "source": [
    "test11(\"gunjan\",322,324,2,34,44)"
   ]
  },
  {
   "cell_type": "code",
   "execution_count": 94,
   "id": "c7680f5a-65d6-46d9-bf53-b8ecea73218e",
   "metadata": {},
   "outputs": [],
   "source": [
    "def test12(*gunj, a):\n",
    "    return gunj , a"
   ]
  },
  {
   "cell_type": "code",
   "execution_count": 95,
   "id": "b98123d6-37e8-4b85-a350-e8312c7a12b9",
   "metadata": {},
   "outputs": [
    {
     "ename": "TypeError",
     "evalue": "test12() missing 1 required keyword-only argument: 'a'",
     "output_type": "error",
     "traceback": [
      "\u001b[1;31m---------------------------------------------------------------------------\u001b[0m",
      "\u001b[1;31mTypeError\u001b[0m                                 Traceback (most recent call last)",
      "Cell \u001b[1;32mIn[95], line 1\u001b[0m\n\u001b[1;32m----> 1\u001b[0m \u001b[43mtest12\u001b[49m\u001b[43m(\u001b[49m\u001b[38;5;241;43m4234\u001b[39;49m\u001b[43m,\u001b[49m\u001b[38;5;241;43m342\u001b[39;49m\u001b[43m)\u001b[49m\n",
      "\u001b[1;31mTypeError\u001b[0m: test12() missing 1 required keyword-only argument: 'a'"
     ]
    }
   ],
   "source": [
    "test12(4234,342)"
   ]
  },
  {
   "cell_type": "code",
   "execution_count": 97,
   "id": "fa08bec5-86d0-40e6-8312-cadba8d71d54",
   "metadata": {},
   "outputs": [
    {
     "data": {
      "text/plain": [
       "(((12, 22, 233, 44, 54),), 32)"
      ]
     },
     "execution_count": 97,
     "metadata": {},
     "output_type": "execute_result"
    }
   ],
   "source": [
    "test12((12,22,233,44,54),a = 32)\n",
    "\n",
    "    "
   ]
  },
  {
   "cell_type": "code",
   "execution_count": 98,
   "id": "4c90d2a8-deb7-46cb-bdfb-586bd19e7365",
   "metadata": {},
   "outputs": [],
   "source": [
    "def test13(a,b, c=12,d =43):\n",
    "    return a,b,c,d"
   ]
  },
  {
   "cell_type": "code",
   "execution_count": 99,
   "id": "6e252e4d-6e8d-493a-bf48-15db23758c3c",
   "metadata": {},
   "outputs": [
    {
     "data": {
      "text/plain": [
       "(33, 33, 12, 43)"
      ]
     },
     "execution_count": 99,
     "metadata": {},
     "output_type": "execute_result"
    }
   ],
   "source": [
    "test13(33,33)"
   ]
  },
  {
   "cell_type": "code",
   "execution_count": 100,
   "id": "fe36c92d-42db-4730-a8fe-3ac0d52f2bba",
   "metadata": {},
   "outputs": [
    {
     "data": {
      "text/plain": [
       "(23, 24, 15, 43)"
      ]
     },
     "execution_count": 100,
     "metadata": {},
     "output_type": "execute_result"
    }
   ],
   "source": [
    "test13(23,24,c = 15)"
   ]
  },
  {
   "cell_type": "code",
   "execution_count": 101,
   "id": "9f7cffa5-e483-4cda-8175-815c2cd81cd2",
   "metadata": {},
   "outputs": [],
   "source": [
    "def test15(**kwargs):\n",
    "    return kwargs\n",
    "    "
   ]
  },
  {
   "cell_type": "code",
   "execution_count": 103,
   "id": "c7a2a5ed-5ba8-4c06-a877-3373b4bc7072",
   "metadata": {},
   "outputs": [
    {
     "data": {
      "text/plain": [
       "dict"
      ]
     },
     "execution_count": 103,
     "metadata": {},
     "output_type": "execute_result"
    }
   ],
   "source": [
    "type(test15())"
   ]
  },
  {
   "cell_type": "code",
   "execution_count": null,
   "id": "ac7570ce-e364-4b1c-b430-aeab4fb0e75f",
   "metadata": {},
   "outputs": [],
   "source": []
  }
 ],
 "metadata": {
  "kernelspec": {
   "display_name": "Python 3 (ipykernel)",
   "language": "python",
   "name": "python3"
  },
  "language_info": {
   "codemirror_mode": {
    "name": "ipython",
    "version": 3
   },
   "file_extension": ".py",
   "mimetype": "text/x-python",
   "name": "python",
   "nbconvert_exporter": "python",
   "pygments_lexer": "ipython3",
   "version": "3.12.2"
  }
 },
 "nbformat": 4,
 "nbformat_minor": 5
}
