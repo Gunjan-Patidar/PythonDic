{
 "cells": [
  {
   "cell_type": "code",
   "execution_count": 1,
   "id": "97292d40-9d37-4c5f-918e-88e29bb59960",
   "metadata": {},
   "outputs": [],
   "source": [
    "l = [2,2,3,4,6,4,24]"
   ]
  },
  {
   "cell_type": "code",
   "execution_count": 2,
   "id": "0877a39c-3502-42d4-a435-1691c9d2bd9c",
   "metadata": {},
   "outputs": [
    {
     "data": {
      "text/plain": [
       "[2, 2, 3, 4, 6, 4, 24]"
      ]
     },
     "execution_count": 2,
     "metadata": {},
     "output_type": "execute_result"
    }
   ],
   "source": [
    "l"
   ]
  },
  {
   "cell_type": "code",
   "execution_count": 4,
   "id": "81680f31-473e-46af-97fc-9df2b9cd623c",
   "metadata": {},
   "outputs": [
    {
     "name": "stdout",
     "output_type": "stream",
     "text": [
      "2 <class 'int'>\n",
      "2 <class 'int'>\n",
      "3 <class 'int'>\n",
      "4 <class 'int'>\n",
      "6 <class 'int'>\n",
      "4 <class 'int'>\n",
      "24 <class 'int'>\n"
     ]
    }
   ],
   "source": [
    "for i in l:\n",
    "    print(i, type(i))"
   ]
  },
  {
   "cell_type": "code",
   "execution_count": 6,
   "id": "8467d975-c1a7-4641-8458-dc4720d792d4",
   "metadata": {},
   "outputs": [
    {
     "name": "stdout",
     "output_type": "stream",
     "text": [
      "2\n",
      "2\n",
      "3\n",
      "4\n",
      "6\n",
      "4\n",
      "24\n",
      "if for loop is able to complete itself then only else will execute\n"
     ]
    }
   ],
   "source": [
    "for i in l:\n",
    "    print(i)\n",
    "else:\n",
    "    print(\"if for loop is able to complete itself then only else will execute\")"
   ]
  },
  {
   "cell_type": "code",
   "execution_count": 8,
   "id": "cbb6d0c7-db28-4da1-a4e4-1985c0308d6f",
   "metadata": {},
   "outputs": [
    {
     "name": "stdout",
     "output_type": "stream",
     "text": [
      "2\n",
      "2\n",
      "3\n"
     ]
    }
   ],
   "source": [
    "for i in l:\n",
    "    if i == 4:\n",
    "        break\n",
    "    print (i)"
   ]
  },
  {
   "cell_type": "code",
   "execution_count": 9,
   "id": "1915ea60-b5c9-41aa-b698-abc804cbf3b3",
   "metadata": {},
   "outputs": [
    {
     "name": "stdout",
     "output_type": "stream",
     "text": [
      "2\n",
      "2\n",
      "3\n"
     ]
    }
   ],
   "source": [
    "for i in l:\n",
    "    if i == 4:\n",
    "        break\n",
    "    print (i)\n",
    "else: \n",
    "    print(\"execute this is if for loop is able to complete itself\")"
   ]
  },
  {
   "cell_type": "code",
   "execution_count": 11,
   "id": "8d967ac1-03c5-4622-9e17-07c2967f4c33",
   "metadata": {},
   "outputs": [
    {
     "name": "stdout",
     "output_type": "stream",
     "text": [
      "2\n",
      "2\n",
      "3\n",
      "6\n",
      "24\n",
      "execute this is if for loop is able to complete itself\n"
     ]
    }
   ],
   "source": [
    "for i in l:\n",
    "    if i == 4:\n",
    "        continue\n",
    "    print (i)\n",
    "else: \n",
    "    print(\"execute this is if for loop is able to complete itself\")"
   ]
  },
  {
   "cell_type": "code",
   "execution_count": 12,
   "id": "da9de6a3-9886-4b94-8df0-60b2f39167f3",
   "metadata": {},
   "outputs": [],
   "source": [
    "#range()  -- generator function help to generate the number"
   ]
  },
  {
   "cell_type": "code",
   "execution_count": 13,
   "id": "5333ecc4-203f-499d-8bf2-da914f5c5324",
   "metadata": {},
   "outputs": [
    {
     "data": {
      "text/plain": [
       "range(0, 5)"
      ]
     },
     "execution_count": 13,
     "metadata": {},
     "output_type": "execute_result"
    }
   ],
   "source": [
    "range(5)"
   ]
  },
  {
   "cell_type": "code",
   "execution_count": 14,
   "id": "e9b135aa-ddec-44f7-8fd8-9d00c1edfedc",
   "metadata": {},
   "outputs": [
    {
     "data": {
      "text/plain": [
       "[0, 1, 2, 3, 4, 5]"
      ]
     },
     "execution_count": 14,
     "metadata": {},
     "output_type": "execute_result"
    }
   ],
   "source": [
    "list(range(6))"
   ]
  },
  {
   "cell_type": "code",
   "execution_count": 15,
   "id": "112cea1e-b29c-425a-b573-f88974f82d3f",
   "metadata": {},
   "outputs": [
    {
     "data": {
      "text/plain": [
       "[0, 2, 4, 6, 8, 10, 12, 14, 16, 18]"
      ]
     },
     "execution_count": 15,
     "metadata": {},
     "output_type": "execute_result"
    }
   ],
   "source": [
    "list(range(0,20,2))"
   ]
  },
  {
   "cell_type": "code",
   "execution_count": 16,
   "id": "91b89d81-88e2-423f-8e61-61cbda19697d",
   "metadata": {},
   "outputs": [
    {
     "data": {
      "text/plain": [
       "[-10, -9, -8, -7, -6, -5, -4, -3, -2, -1]"
      ]
     },
     "execution_count": 16,
     "metadata": {},
     "output_type": "execute_result"
    }
   ],
   "source": [
    "list(range(-10,0,1))"
   ]
  },
  {
   "cell_type": "code",
   "execution_count": 5,
   "id": "5baa2753-285f-4745-9d60-27008f4c3a09",
   "metadata": {},
   "outputs": [],
   "source": [
    "l1=[\"Gunjan\", \"Patidar\",\"pwskills\",\"courses\"]"
   ]
  },
  {
   "cell_type": "code",
   "execution_count": 6,
   "id": "05983b33-fc1d-4cf9-b780-393e15fcefbf",
   "metadata": {},
   "outputs": [
    {
     "data": {
      "text/plain": [
       "['Gunjan', 'Patidar', 'pwskills', 'courses']"
      ]
     },
     "execution_count": 6,
     "metadata": {},
     "output_type": "execute_result"
    }
   ],
   "source": [
    "l1"
   ]
  },
  {
   "cell_type": "code",
   "execution_count": 7,
   "id": "bdf3dd6d-9dae-4e8b-bf6f-472e04794d8a",
   "metadata": {},
   "outputs": [
    {
     "name": "stdout",
     "output_type": "stream",
     "text": [
      "Gunjan\n",
      "Patidar\n",
      "pwskills\n",
      "courses\n"
     ]
    }
   ],
   "source": [
    "for i in range(len(l1)):\n",
    "    print(l1[i])"
   ]
  },
  {
   "cell_type": "code",
   "execution_count": 8,
   "id": "d497ee3e-fd3b-49ea-b3e0-4ec4cd233a73",
   "metadata": {},
   "outputs": [
    {
     "data": {
      "text/plain": [
       "[3, 2, 1]"
      ]
     },
     "execution_count": 8,
     "metadata": {},
     "output_type": "execute_result"
    }
   ],
   "source": [
    "list(range(len(l1)-1,0,-1))\n"
   ]
  },
  {
   "cell_type": "code",
   "execution_count": 9,
   "id": "60bd3b2a-6483-49c7-9209-d4ff8d3f246c",
   "metadata": {},
   "outputs": [
    {
     "data": {
      "text/plain": [
       "['Gunjan', 'Patidar', 'pwskills', 'courses']"
      ]
     },
     "execution_count": 9,
     "metadata": {},
     "output_type": "execute_result"
    }
   ],
   "source": [
    "l1"
   ]
  },
  {
   "cell_type": "code",
   "execution_count": 10,
   "id": "b99099e1-6238-4ebf-98df-ef10c47cbf3a",
   "metadata": {},
   "outputs": [
    {
     "name": "stdout",
     "output_type": "stream",
     "text": [
      "courses\n",
      "pwskills\n",
      "Patidar\n",
      "Gunjan\n"
     ]
    }
   ],
   "source": [
    "for i in range(len(l1)-1,-1,-1):\n",
    "    print(l1[i])"
   ]
  },
  {
   "cell_type": "code",
   "execution_count": 12,
   "id": "7d69a9b6-2e02-46fc-8ddc-dbd39e230edf",
   "metadata": {},
   "outputs": [],
   "source": [
    "l2 = [23,4,5,24,33,34,37,423,434,342,4,444,3434]"
   ]
  },
  {
   "cell_type": "code",
   "execution_count": 13,
   "id": "55225186-74a8-4146-8e70-d32668a989ab",
   "metadata": {},
   "outputs": [
    {
     "data": {
      "text/plain": [
       "[0, 2, 4, 6, 8, 10, 12]"
      ]
     },
     "execution_count": 13,
     "metadata": {},
     "output_type": "execute_result"
    }
   ],
   "source": [
    "list(range(0,len(l2),2))"
   ]
  },
  {
   "cell_type": "code",
   "execution_count": 15,
   "id": "cc60f964-38f7-438a-9b4e-ed73f5b1ce3e",
   "metadata": {},
   "outputs": [
    {
     "name": "stdout",
     "output_type": "stream",
     "text": [
      "23\n",
      "5\n",
      "33\n",
      "37\n",
      "434\n",
      "4\n",
      "3434\n"
     ]
    }
   ],
   "source": [
    "for i in range(0,len(l2),2):\n",
    "    print(l2[i])"
   ]
  },
  {
   "cell_type": "code",
   "execution_count": 20,
   "id": "0242b3e1-47e0-4bc3-9089-66ba6eefdb17",
   "metadata": {},
   "outputs": [
    {
     "data": {
      "text/plain": [
       "5241"
      ]
     },
     "execution_count": 20,
     "metadata": {},
     "output_type": "execute_result"
    }
   ],
   "source": [
    "sum(l2)"
   ]
  },
  {
   "cell_type": "code",
   "execution_count": 21,
   "id": "5fae34a4-63b1-44b2-b341-923a831aea1c",
   "metadata": {},
   "outputs": [
    {
     "data": {
      "text/plain": [
       "5241"
      ]
     },
     "execution_count": 21,
     "metadata": {},
     "output_type": "execute_result"
    }
   ],
   "source": [
    "result = 0\n",
    "for i in l2:\n",
    "    result = result + i\n",
    "result"
   ]
  },
  {
   "cell_type": "code",
   "execution_count": 26,
   "id": "8e801ea0-5e3f-475b-97dd-98c893115e45",
   "metadata": {},
   "outputs": [],
   "source": [
    "t1 = (23,4,3,3,2,3)"
   ]
  },
  {
   "cell_type": "raw",
   "id": "8d19b006-758e-41ba-a5ae-6240711d6999",
   "metadata": {},
   "source": [
    "t1"
   ]
  },
  {
   "cell_type": "code",
   "execution_count": 29,
   "id": "9795631d-07d3-4a09-8d6a-b8096b0d0798",
   "metadata": {},
   "outputs": [
    {
     "data": {
      "text/plain": [
       "38"
      ]
     },
     "execution_count": 29,
     "metadata": {},
     "output_type": "execute_result"
    }
   ],
   "source": [
    "result = 0\n",
    "for i in t1:\n",
    "    result = result + i\n",
    "result"
   ]
  },
  {
   "cell_type": "code",
   "execution_count": null,
   "id": "d8f0c2fd-a90b-45d3-aebc-0f5c8321f23b",
   "metadata": {},
   "outputs": [],
   "source": []
  },
  {
   "cell_type": "code",
   "execution_count": null,
   "id": "e64b2f7d-b884-4566-bf53-a888ccaa8c0e",
   "metadata": {},
   "outputs": [],
   "source": []
  },
  {
   "cell_type": "code",
   "execution_count": null,
   "id": "a73e4b80-64ae-4b26-85b0-210263a2b0f7",
   "metadata": {},
   "outputs": [],
   "source": []
  },
  {
   "cell_type": "code",
   "execution_count": null,
   "id": "8683fdff-80e8-475d-a678-cba8e019acaa",
   "metadata": {},
   "outputs": [],
   "source": []
  },
  {
   "cell_type": "code",
   "execution_count": null,
   "id": "cf872590-2d5d-497e-a38c-58a7c5603069",
   "metadata": {},
   "outputs": [],
   "source": []
  },
  {
   "cell_type": "code",
   "execution_count": null,
   "id": "f39f87cc-1ac4-40f9-a612-b05cccb06681",
   "metadata": {},
   "outputs": [],
   "source": []
  }
 ],
 "metadata": {
  "kernelspec": {
   "display_name": "Python 3 (ipykernel)",
   "language": "python",
   "name": "python3"
  },
  "language_info": {
   "codemirror_mode": {
    "name": "ipython",
    "version": 3
   },
   "file_extension": ".py",
   "mimetype": "text/x-python",
   "name": "python",
   "nbconvert_exporter": "python",
   "pygments_lexer": "ipython3",
   "version": "3.12.2"
  }
 },
 "nbformat": 4,
 "nbformat_minor": 5
}
