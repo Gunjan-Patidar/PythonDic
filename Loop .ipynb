{
 "cells": [
  {
   "cell_type": "code",
   "execution_count": 1,
   "id": "8fe50abf-a82a-492e-98c5-b04c1389f51b",
   "metadata": {},
   "outputs": [],
   "source": [
    "d={}"
   ]
  },
  {
   "cell_type": "code",
   "execution_count": 2,
   "id": "a8bbea9f-74ea-4f93-976a-c93151bdec3e",
   "metadata": {},
   "outputs": [
    {
     "data": {
      "text/plain": [
       "dict"
      ]
     },
     "execution_count": 2,
     "metadata": {},
     "output_type": "execute_result"
    }
   ],
   "source": [
    "type(d)"
   ]
  },
  {
   "cell_type": "code",
   "execution_count": 14,
   "id": "b5fcaf26-b724-49d4-998c-1675764d49b3",
   "metadata": {},
   "outputs": [],
   "source": [
    "d1 = {'key' : \"gunj\"}"
   ]
  },
  {
   "cell_type": "code",
   "execution_count": 15,
   "id": "352e6a9e-a1e4-4287-9291-cc792191859b",
   "metadata": {},
   "outputs": [
    {
     "data": {
      "text/plain": [
       "{'key': 'gunj'}"
      ]
     },
     "execution_count": 15,
     "metadata": {},
     "output_type": "execute_result"
    }
   ],
   "source": [
    "d1"
   ]
  },
  {
   "cell_type": "code",
   "execution_count": 22,
   "id": "50a7cf49-0359-49cd-a93c-e0afa87a7504",
   "metadata": {},
   "outputs": [],
   "source": [
    "d4 = {\"name\": \"gunjan\", \"email\": \"gunj@gmail.com\"}"
   ]
  },
  {
   "cell_type": "markdown",
   "id": "da170fa3-e468-42df-a89c-7e4beb5771c2",
   "metadata": {
    "jp-MarkdownHeadingCollapsed": true,
    "tags": []
   },
   "source": [
    "d4"
   ]
  },
  {
   "cell_type": "code",
   "execution_count": 19,
   "id": "c4ebb099-a9c3-461a-8c8a-5cc569ec9dde",
   "metadata": {},
   "outputs": [],
   "source": [
    "d3={11:\"gunjan\"}"
   ]
  },
  {
   "cell_type": "code",
   "execution_count": 20,
   "id": "d60bbbdb-74f8-4f32-a977-caf4d2a18e93",
   "metadata": {},
   "outputs": [
    {
     "data": {
      "text/plain": [
       "{11: 'gunjan'}"
      ]
     },
     "execution_count": 20,
     "metadata": {},
     "output_type": "execute_result"
    }
   ],
   "source": [
    "d3"
   ]
  },
  {
   "cell_type": "code",
   "execution_count": 25,
   "id": "da144f38-e9ab-4839-9aae-7c32807ddfa2",
   "metadata": {},
   "outputs": [],
   "source": [
    "d4 = {\"name\": \"gunjan\", \"email\": \"gunj@gmail.com\", \"number\": 678999}"
   ]
  },
  {
   "cell_type": "code",
   "execution_count": 26,
   "id": "18c3ef56-f63c-48d8-81c2-05eb64a026cf",
   "metadata": {},
   "outputs": [
    {
     "data": {
      "text/plain": [
       "{'name': 'gunjan', 'email': 'gunj@gmail.com', 'number': 678999}"
      ]
     },
     "execution_count": 26,
     "metadata": {},
     "output_type": "execute_result"
    }
   ],
   "source": [
    "d4"
   ]
  },
  {
   "cell_type": "code",
   "execution_count": 27,
   "id": "39fab161-e5bb-4f31-b2ca-27e1a44ce65c",
   "metadata": {},
   "outputs": [],
   "source": [
    "d5 = {234:\"gunjan\", \"_were\": 23456, True :345}"
   ]
  },
  {
   "cell_type": "code",
   "execution_count": 28,
   "id": "90404b56-201b-4151-b06f-7aecc5cc1f53",
   "metadata": {},
   "outputs": [
    {
     "data": {
      "text/plain": [
       "{234: 'gunjan', '_were': 23456, True: 345}"
      ]
     },
     "execution_count": 28,
     "metadata": {},
     "output_type": "execute_result"
    }
   ],
   "source": [
    "d5"
   ]
  },
  {
   "cell_type": "code",
   "execution_count": 36,
   "id": "e86f7ace-5dd5-4e13-9098-ffb0aa9cfe86",
   "metadata": {},
   "outputs": [
    {
     "data": {
      "text/plain": [
       "'gunjan'"
      ]
     },
     "execution_count": 36,
     "metadata": {},
     "output_type": "execute_result"
    }
   ],
   "source": [
    "d5[234]"
   ]
  },
  {
   "cell_type": "code",
   "execution_count": 38,
   "id": "588b598a-deb1-4486-8dc8-b2efea7502ac",
   "metadata": {},
   "outputs": [
    {
     "data": {
      "text/plain": [
       "345"
      ]
     },
     "execution_count": 38,
     "metadata": {},
     "output_type": "execute_result"
    }
   ],
   "source": [
    "d5[True]"
   ]
  },
  {
   "cell_type": "code",
   "execution_count": 39,
   "id": "c99958e2-f86d-4795-947b-1419c5d73fd8",
   "metadata": {},
   "outputs": [
    {
     "data": {
      "text/plain": [
       "345"
      ]
     },
     "execution_count": 39,
     "metadata": {},
     "output_type": "execute_result"
    }
   ],
   "source": [
    "d5[1]   ##1=True and 0=False"
   ]
  },
  {
   "cell_type": "code",
   "execution_count": 40,
   "id": "90c4a3f4-3a81-4738-85fc-ed9b9b322ef8",
   "metadata": {},
   "outputs": [],
   "source": [
    "d6={'name':\"gunjan\", 'email_id': \"gunjan@gmail.com\", 'name':\"gunaj\"}"
   ]
  },
  {
   "cell_type": "code",
   "execution_count": 43,
   "id": "06300314-becf-42c7-a582-d44c8141192d",
   "metadata": {},
   "outputs": [
    {
     "data": {
      "text/plain": [
       "'gunaj'"
      ]
     },
     "execution_count": 43,
     "metadata": {},
     "output_type": "execute_result"
    }
   ],
   "source": [
    "d6[\"name\"]   ##key should be unique if key is same then it will override by last updated value "
   ]
  },
  {
   "cell_type": "code",
   "execution_count": 44,
   "id": "60d1410c-52e0-422c-9c20-612a2844f37e",
   "metadata": {},
   "outputs": [],
   "source": [
    "d7={'company':\"pwskills\", 'Course':[ \"web dev\",\"data science\", \"java with dsa system\"]}"
   ]
  },
  {
   "cell_type": "code",
   "execution_count": 47,
   "id": "953025c8-7ccf-41d7-ac12-24d283a1b933",
   "metadata": {},
   "outputs": [
    {
     "data": {
      "text/plain": [
       "['web dev', 'data science', 'java with dsa system']"
      ]
     },
     "execution_count": 47,
     "metadata": {},
     "output_type": "execute_result"
    }
   ],
   "source": [
    "d7['Course']"
   ]
  },
  {
   "cell_type": "code",
   "execution_count": 6,
   "id": "3b6e48c8-4cc5-495e-a191-bf15b4fdab15",
   "metadata": {},
   "outputs": [
    {
     "ename": "NameError",
     "evalue": "name 'd7' is not defined",
     "output_type": "error",
     "traceback": [
      "\u001b[0;31m---------------------------------------------------------------------------\u001b[0m",
      "\u001b[0;31mNameError\u001b[0m                                 Traceback (most recent call last)",
      "Cell \u001b[0;32mIn[6], line 1\u001b[0m\n\u001b[0;32m----> 1\u001b[0m \u001b[43md7\u001b[49m[\u001b[38;5;124m'\u001b[39m\u001b[38;5;124mCourse\u001b[39m\u001b[38;5;124m'\u001b[39m][\u001b[38;5;241m2\u001b[39m]\n",
      "\u001b[0;31mNameError\u001b[0m: name 'd7' is not defined"
     ]
    }
   ],
   "source": [
    "d7['Course'][2]"
   ]
  },
  {
   "cell_type": "code",
   "execution_count": 7,
   "id": "673de639-75bf-4c39-b8e7-ffe06c1b35c5",
   "metadata": {},
   "outputs": [],
   "source": [
    "d8={\"number\":[1,2,34,5,5,3,2], \"assignments\":(34,3,4,5,3,), \"launch_date\":{28,24,12,14},\"class time\": {\"webde\":8,'data science master':78}         }"
   ]
  },
  {
   "cell_type": "code",
   "execution_count": 8,
   "id": "9552679e-b6e3-42c2-ae7a-14e413e93b34",
   "metadata": {},
   "outputs": [
    {
     "data": {
      "text/plain": [
       "{'number': [1, 2, 34, 5, 5, 3, 2],\n",
       " 'assignments': (34, 3, 4, 5, 3),\n",
       " 'launch_date': {12, 14, 24, 28},\n",
       " 'class time': {'webde': 8, 'data science master': 78}}"
      ]
     },
     "execution_count": 8,
     "metadata": {},
     "output_type": "execute_result"
    }
   ],
   "source": [
    "d8"
   ]
  },
  {
   "cell_type": "code",
   "execution_count": 9,
   "id": "d32cd970-fd38-40c1-8c7e-768e38287209",
   "metadata": {},
   "outputs": [
    {
     "data": {
      "text/plain": [
       "78"
      ]
     },
     "execution_count": 9,
     "metadata": {},
     "output_type": "execute_result"
    }
   ],
   "source": [
    "d8['class time']['data science master']"
   ]
  },
  {
   "cell_type": "code",
   "execution_count": 10,
   "id": "a5186438-7f67-4d84-8679-e4cfb66894dd",
   "metadata": {
    "tags": []
   },
   "outputs": [],
   "source": [
    "d8['mentor']=[\"Sudhanshu\", \"Krish\", \"Anurag\"]\n"
   ]
  },
  {
   "cell_type": "code",
   "execution_count": 11,
   "id": "d02b5812-bc7e-4bf8-86ad-39e0f954e248",
   "metadata": {},
   "outputs": [
    {
     "data": {
      "text/plain": [
       "{'number': [1, 2, 34, 5, 5, 3, 2],\n",
       " 'assignments': (34, 3, 4, 5, 3),\n",
       " 'launch_date': {12, 14, 24, 28},\n",
       " 'class time': {'webde': 8, 'data science master': 78},\n",
       " 'mentor': ['Sudhanshu', 'Krish', 'Anurag']}"
      ]
     },
     "execution_count": 11,
     "metadata": {},
     "output_type": "execute_result"
    }
   ],
   "source": [
    "d8"
   ]
  },
  {
   "cell_type": "code",
   "execution_count": 13,
   "id": "47ed2467-c007-404b-a384-96d30c44ac66",
   "metadata": {},
   "outputs": [],
   "source": [
    "del d8['number']"
   ]
  },
  {
   "cell_type": "code",
   "execution_count": 14,
   "id": "307c4233-351d-4537-8a15-aaddaf003521",
   "metadata": {},
   "outputs": [
    {
     "data": {
      "text/plain": [
       "{'assignments': (34, 3, 4, 5, 3),\n",
       " 'launch_date': {12, 14, 24, 28},\n",
       " 'class time': {'webde': 8, 'data science master': 78},\n",
       " 'mentor': ['Sudhanshu', 'Krish', 'Anurag']}"
      ]
     },
     "execution_count": 14,
     "metadata": {},
     "output_type": "execute_result"
    }
   ],
   "source": [
    "d8"
   ]
  },
  {
   "cell_type": "code",
   "execution_count": 15,
   "id": "51769488-4030-425f-b2a4-71035349a483",
   "metadata": {},
   "outputs": [
    {
     "data": {
      "text/plain": [
       "['assignments', 'launch_date', 'class time', 'mentor']"
      ]
     },
     "execution_count": 15,
     "metadata": {},
     "output_type": "execute_result"
    }
   ],
   "source": [
    "list(d8.keys())\n",
    "\n",
    "    "
   ]
  },
  {
   "cell_type": "code",
   "execution_count": 20,
   "id": "f51282e3-044f-4307-8654-24c092022f6e",
   "metadata": {},
   "outputs": [
    {
     "data": {
      "text/plain": [
       "[('assignments', (34, 3, 4, 5, 3)),\n",
       " ('launch_date', {12, 14, 24, 28}),\n",
       " ('class time', {'webde': 8, 'data science master': 78}),\n",
       " ('mentor', ['Sudhanshu', 'Krish', 'Anurag'])]"
      ]
     },
     "execution_count": 20,
     "metadata": {},
     "output_type": "execute_result"
    }
   ],
   "source": [
    "list(d8.items())"
   ]
  },
  {
   "cell_type": "code",
   "execution_count": 21,
   "id": "5a95bacc-a04c-43cc-8a04-cea402e660aa",
   "metadata": {},
   "outputs": [
    {
     "data": {
      "text/plain": [
       "[(34, 3, 4, 5, 3),\n",
       " {12, 14, 24, 28},\n",
       " {'webde': 8, 'data science master': 78},\n",
       " ['Sudhanshu', 'Krish', 'Anurag']]"
      ]
     },
     "execution_count": 21,
     "metadata": {},
     "output_type": "execute_result"
    }
   ],
   "source": [
    "list(d8.values())"
   ]
  },
  {
   "cell_type": "code",
   "execution_count": 23,
   "id": "212eb487-b85b-4d88-8cca-8072c65464f8",
   "metadata": {},
   "outputs": [
    {
     "data": {
      "text/plain": [
       "(34, 3, 4, 5, 3)"
      ]
     },
     "execution_count": 23,
     "metadata": {},
     "output_type": "execute_result"
    }
   ],
   "source": [
    "d8.pop('assignments')"
   ]
  },
  {
   "cell_type": "code",
   "execution_count": 24,
   "id": "fc22f078-f16e-4e3c-bd1b-00c3a110ba49",
   "metadata": {},
   "outputs": [
    {
     "data": {
      "text/plain": [
       "{'launch_date': {12, 14, 24, 28},\n",
       " 'class time': {'webde': 8, 'data science master': 78},\n",
       " 'mentor': ['Sudhanshu', 'Krish', 'Anurag']}"
      ]
     },
     "execution_count": 24,
     "metadata": {},
     "output_type": "execute_result"
    }
   ],
   "source": [
    "d8"
   ]
  },
  {
   "cell_type": "code",
   "execution_count": 37,
   "id": "b4916383-ed77-453d-8874-350f542aab7e",
   "metadata": {},
   "outputs": [
    {
     "name": "stdin",
     "output_type": "stream",
     "text": [
      "enter your marks 40\n"
     ]
    },
    {
     "name": "stdout",
     "output_type": "stream",
     "text": [
      "you will be a part of A2 batch\n"
     ]
    }
   ],
   "source": [
    "##marks = 65\n",
    "\n",
    "marks = int(input(\"enter your marks\"))\n",
    "if marks >= 80 :\n",
    "    print(\"you will be the part of A0 batch\")\n",
    "elif marks >= 60 and marks <80 :\n",
    "    print(\"you will be a part of A1 batch\")\n",
    "elif marks >=40 and marks < 60:\n",
    "    print(\"you will be a part of A2 batch\")\n",
    "else:\n",
    "    print(\"you will be part of A3 batch\")\n",
    "     \n",
    "        \n",
    "        "
   ]
  },
  {
   "cell_type": "raw",
   "id": "418910f7-ffe4-41c6-a1c0-bfa88ea7d64a",
   "metadata": {},
   "source": [
    "marks = int(input(\"enter your marks\")) ##string\n"
   ]
  },
  {
   "cell_type": "markdown",
   "id": "65e31488-ada7-4510-b284-9de1e4f166d0",
   "metadata": {},
   "source": [
    "marks = input(\"enter your marks\")"
   ]
  },
  {
   "cell_type": "code",
   "execution_count": 32,
   "id": "40dd5ee9-7202-4244-baa2-0dbd267ae95c",
   "metadata": {},
   "outputs": [
    {
     "data": {
      "text/plain": [
       "'45'"
      ]
     },
     "execution_count": 32,
     "metadata": {},
     "output_type": "execute_result"
    }
   ],
   "source": [
    "marks"
   ]
  },
  {
   "cell_type": "code",
   "execution_count": 31,
   "id": "114c5d99-3dc0-482e-90cd-aa99c1688b38",
   "metadata": {},
   "outputs": [
    {
     "data": {
      "text/plain": [
       "str"
      ]
     },
     "execution_count": 31,
     "metadata": {},
     "output_type": "execute_result"
    }
   ],
   "source": [
    "type(marks)"
   ]
  },
  {
   "cell_type": "code",
   "execution_count": 33,
   "id": "58ea1f1d-e881-4af1-994b-aa2fcb153635",
   "metadata": {},
   "outputs": [
    {
     "name": "stdin",
     "output_type": "stream",
     "text": [
      "enter your marks 40\n"
     ]
    }
   ],
   "source": [
    "marks = int(input(\"enter your marks\"))"
   ]
  },
  {
   "cell_type": "code",
   "execution_count": 34,
   "id": "de65e600-1bcc-4338-8493-6a626b747f1c",
   "metadata": {},
   "outputs": [
    {
     "data": {
      "text/plain": [
       "40"
      ]
     },
     "execution_count": 34,
     "metadata": {},
     "output_type": "execute_result"
    }
   ],
   "source": [
    "marks"
   ]
  },
  {
   "cell_type": "code",
   "execution_count": 2,
   "id": "9c425eaa-7d68-4481-9ae1-c1a519b76401",
   "metadata": {},
   "outputs": [
    {
     "name": "stdin",
     "output_type": "stream",
     "text": [
      "enter price 400\n"
     ]
    },
    {
     "name": "stdout",
     "output_type": "stream",
     "text": [
      "i will purchase\n"
     ]
    }
   ],
   "source": [
    "price= int(input(\"enter price\"))\n",
    "if price > 1000:\n",
    "    print(\"i will not purchase\")\n",
    "else:\n",
    "    print(\"i will purchase\")\n",
    "    "
   ]
  },
  {
   "cell_type": "code",
   "execution_count": 9,
   "id": "5a09c431-72bc-4580-b2ce-c6cef797c323",
   "metadata": {},
   "outputs": [
    {
     "name": "stdin",
     "output_type": "stream",
     "text": [
      "enter price 7000\n"
     ]
    },
    {
     "name": "stdout",
     "output_type": "stream",
     "text": [
      "i will not purchase\n",
      "this is too much\n"
     ]
    }
   ],
   "source": [
    "price= int(input(\"enter price\"))\n",
    "if price > 1000:\n",
    "    print(\"i will not purchase\")\n",
    "    if price >5000:\n",
    "        print(\"this is too much\")\n",
    "    elif price > 2000:\n",
    "            print(\"ts okay\")"
   ]
  },
  {
   "cell_type": "code",
   "execution_count": 39,
   "id": "891dab12-a1d8-4f9a-8feb-347b76cf4645",
   "metadata": {},
   "outputs": [],
   "source": [
    "l=[1,2,3,4,2,2]"
   ]
  },
  {
   "cell_type": "code",
   "execution_count": 40,
   "id": "d12ab9bd-b36b-437a-93f4-5402f9eb7ea7",
   "metadata": {},
   "outputs": [
    {
     "data": {
      "text/plain": [
       "2"
      ]
     },
     "execution_count": 40,
     "metadata": {},
     "output_type": "execute_result"
    }
   ],
   "source": [
    "l[0]+1"
   ]
  },
  {
   "cell_type": "code",
   "execution_count": 42,
   "id": "2ac7c8b0-9eed-4177-b015-f3d05a218590",
   "metadata": {},
   "outputs": [],
   "source": [
    "l1 = []"
   ]
  },
  {
   "cell_type": "code",
   "execution_count": 47,
   "id": "b9647215-f522-4cca-aa7e-ea6e753bd602",
   "metadata": {},
   "outputs": [],
   "source": [
    "l1.append(l[0] + 1)"
   ]
  },
  {
   "cell_type": "code",
   "execution_count": 48,
   "id": "6e8561b6-0465-4d1f-a9be-6329c1e7c3cf",
   "metadata": {},
   "outputs": [],
   "source": [
    "l=[3,4,5,3,2,2,3,1,3]\n"
   ]
  },
  {
   "cell_type": "code",
   "execution_count": 50,
   "id": "b6323734-9d51-45ae-9951-671fff939cb8",
   "metadata": {},
   "outputs": [
    {
     "name": "stdout",
     "output_type": "stream",
     "text": [
      "4\n",
      "5\n",
      "6\n",
      "4\n",
      "3\n",
      "3\n",
      "4\n",
      "2\n",
      "4\n"
     ]
    }
   ],
   "source": [
    "for i in l:\n",
    "    print(i+1)"
   ]
  },
  {
   "cell_type": "code",
   "execution_count": 51,
   "id": "fd3f8555-c3c9-427d-8d8f-788e02034788",
   "metadata": {},
   "outputs": [],
   "source": [
    "## outcome as a list"
   ]
  },
  {
   "cell_type": "code",
   "execution_count": 55,
   "id": "79b9007d-264b-4edf-aacd-e55050e42d34",
   "metadata": {},
   "outputs": [
    {
     "name": "stdout",
     "output_type": "stream",
     "text": [
      "4\n",
      "5\n",
      "6\n",
      "4\n",
      "3\n",
      "3\n",
      "4\n",
      "2\n",
      "4\n"
     ]
    },
    {
     "data": {
      "text/plain": [
       "[4, 5, 6, 4, 3, 3, 4, 2, 4]"
      ]
     },
     "execution_count": 55,
     "metadata": {},
     "output_type": "execute_result"
    }
   ],
   "source": [
    "l1=[]\n",
    "\n",
    "for i in l:\n",
    "    print(i+1)\n",
    "    l1.append(i+1)\n",
    "l1"
   ]
  },
  {
   "cell_type": "code",
   "execution_count": 56,
   "id": "5c5134ba-e4d9-4383-97af-b00dcba4d58c",
   "metadata": {},
   "outputs": [],
   "source": [
    "l=[\"gunjan\", \"patidar\", \"pwskills\",\"course\"]"
   ]
  },
  {
   "cell_type": "code",
   "execution_count": 59,
   "id": "a3d0a393-963a-4ece-8ad7-84da90ef0053",
   "metadata": {},
   "outputs": [
    {
     "name": "stdout",
     "output_type": "stream",
     "text": [
      "gunjan\n",
      "patidar\n",
      "pwskills\n",
      "course\n"
     ]
    }
   ],
   "source": [
    "l1=[]\n",
    "for i in l:\n",
    "    print(i)\n",
    "    l1.append(i.upper())"
   ]
  },
  {
   "cell_type": "code",
   "execution_count": 60,
   "id": "2a8cdbf8-fbd9-47ed-8df7-d453d27a1df5",
   "metadata": {},
   "outputs": [
    {
     "data": {
      "text/plain": [
       "['GUNJAN', 'PATIDAR', 'PWSKILLS', 'COURSE']"
      ]
     },
     "execution_count": 60,
     "metadata": {},
     "output_type": "execute_result"
    }
   ],
   "source": [
    "l1"
   ]
  },
  {
   "cell_type": "code",
   "execution_count": 61,
   "id": "d4897177-5b02-41a7-b46f-d59aa6f9cae1",
   "metadata": {},
   "outputs": [],
   "source": [
    "l=[2,3,2,4,2, \"gunj\", \"patidar\", 74662,4763.78, \"abc\"]"
   ]
  },
  {
   "cell_type": "code",
   "execution_count": 62,
   "id": "919e5cb4-8a9c-42a7-8cc9-97a7b357bb50",
   "metadata": {},
   "outputs": [],
   "source": [
    "## make two separate list one for integer and one for string"
   ]
  },
  {
   "cell_type": "code",
   "execution_count": 63,
   "id": "0f39ff86-b715-4d9f-8fcf-e40d95f895fa",
   "metadata": {},
   "outputs": [],
   "source": [
    "l1_num=[]\n",
    "l2_str=[]\n",
    "for i in l :\n",
    "    if type(i) == int or type(i)==float:\n",
    "        l1_num.append(i)\n",
    "    else:\n",
    "        l2_str.append(i)\n",
    "    \n",
    "    "
   ]
  },
  {
   "cell_type": "code",
   "execution_count": 64,
   "id": "c5f50fbd-9248-4bcf-be90-24e1de597261",
   "metadata": {},
   "outputs": [
    {
     "data": {
      "text/plain": [
       "[2, 3, 2, 4, 2, 74662, 4763.78]"
      ]
     },
     "execution_count": 64,
     "metadata": {},
     "output_type": "execute_result"
    }
   ],
   "source": [
    "l1_num"
   ]
  },
  {
   "cell_type": "code",
   "execution_count": 65,
   "id": "1fd1473a-8080-44cb-babf-32e27a73b303",
   "metadata": {},
   "outputs": [
    {
     "data": {
      "text/plain": [
       "['gunj', 'patidar', 'abc']"
      ]
     },
     "execution_count": 65,
     "metadata": {},
     "output_type": "execute_result"
    }
   ],
   "source": [
    "l2_str"
   ]
  },
  {
   "cell_type": "code",
   "execution_count": null,
   "id": "8e706bfa-bef2-430f-b9a4-13f04c606753",
   "metadata": {},
   "outputs": [],
   "source": []
  }
 ],
 "metadata": {
  "kernelspec": {
   "display_name": "Python 3 (ipykernel)",
   "language": "python",
   "name": "python3"
  },
  "language_info": {
   "codemirror_mode": {
    "name": "ipython",
    "version": 3
   },
   "file_extension": ".py",
   "mimetype": "text/x-python",
   "name": "python",
   "nbconvert_exporter": "python",
   "pygments_lexer": "ipython3",
   "version": "3.10.8"
  }
 },
 "nbformat": 4,
 "nbformat_minor": 5
}
