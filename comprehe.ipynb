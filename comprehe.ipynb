{
 "cells": [
  {
   "cell_type": "code",
   "execution_count": 1,
   "id": "9b32324e-c452-4998-9c75-1eef9eb34864",
   "metadata": {},
   "outputs": [],
   "source": [
    "l = [1,2,4,2,2,3]\n",
    "l1 = []\n",
    "for i in l:\n",
    "    l1.append(i**2)"
   ]
  },
  {
   "cell_type": "code",
   "execution_count": 2,
   "id": "e3beda4c-549f-4c78-92d5-7b255c402a43",
   "metadata": {},
   "outputs": [
    {
     "data": {
      "text/plain": [
       "[1, 4, 16, 4, 4, 9]"
      ]
     },
     "execution_count": 2,
     "metadata": {},
     "output_type": "execute_result"
    }
   ],
   "source": [
    "l1\n"
   ]
  },
  {
   "cell_type": "code",
   "execution_count": 3,
   "id": "193fc949-6437-4337-b6a2-c0ec236914f8",
   "metadata": {},
   "outputs": [
    {
     "data": {
      "text/plain": [
       "[1, 4, 16, 4, 4, 9]"
      ]
     },
     "execution_count": 3,
     "metadata": {},
     "output_type": "execute_result"
    }
   ],
   "source": [
    "#compre\n",
    "[i**2 for i in l]"
   ]
  },
  {
   "cell_type": "code",
   "execution_count": 4,
   "id": "05454403-2f22-4d50-92c5-130245a995d6",
   "metadata": {},
   "outputs": [],
   "source": [
    "l1 = [\"gunjan\", \"patidar\", \"data science\"]"
   ]
  },
  {
   "cell_type": "code",
   "execution_count": 8,
   "id": "7af06023-f549-4ed5-8442-195dfdd72b58",
   "metadata": {},
   "outputs": [
    {
     "data": {
      "text/plain": [
       "['GUNJAN', 'PATIDAR', 'DATA SCIENCE']"
      ]
     },
     "execution_count": 8,
     "metadata": {},
     "output_type": "execute_result"
    }
   ],
   "source": [
    "#change string into upper case \n",
    "[i.upper() for i in  l1]"
   ]
  },
  {
   "cell_type": "code",
   "execution_count": 9,
   "id": "b1451c2c-5540-4701-bc53-1a9d8e24f694",
   "metadata": {},
   "outputs": [
    {
     "data": {
      "text/plain": [
       "[1, 2, 4, 2, 2, 3]"
      ]
     },
     "execution_count": 9,
     "metadata": {},
     "output_type": "execute_result"
    }
   ],
   "source": [
    "l "
   ]
  },
  {
   "cell_type": "code",
   "execution_count": 11,
   "id": "ac30aacd-baa4-41f1-b8f6-d191d4aea483",
   "metadata": {},
   "outputs": [
    {
     "data": {
      "text/plain": [
       "[1, 4, 16, 4, 4, 9]"
      ]
     },
     "execution_count": 11,
     "metadata": {},
     "output_type": "execute_result"
    }
   ],
   "source": [
    "list(i**2 for i in l)"
   ]
  },
  {
   "cell_type": "code",
   "execution_count": 12,
   "id": "de4a654e-f512-4acb-9dd4-8d110214d8e8",
   "metadata": {},
   "outputs": [],
   "source": [
    "d ={\"key1\" : 1 , \"key2\": 2,\"key3\":3}\n"
   ]
  },
  {
   "cell_type": "code",
   "execution_count": 13,
   "id": "83a80f9a-cfae-4714-9c08-681f628f7e3a",
   "metadata": {},
   "outputs": [
    {
     "data": {
      "text/plain": [
       "{'key1': 1, 'key2': 2, 'key3': 3}"
      ]
     },
     "execution_count": 13,
     "metadata": {},
     "output_type": "execute_result"
    }
   ],
   "source": [
    "d"
   ]
  },
  {
   "cell_type": "code",
   "execution_count": 14,
   "id": "2ac65c9b-96ee-43c0-a036-be9e7d96faf0",
   "metadata": {},
   "outputs": [],
   "source": [
    "#return the key values in sequere \n"
   ]
  },
  {
   "cell_type": "code",
   "execution_count": 15,
   "id": "4e8ec126-199e-4ffe-bc67-0bf57c849141",
   "metadata": {},
   "outputs": [
    {
     "data": {
      "text/plain": [
       "{'key1': 1, 'key2': 4, 'key3': 9}"
      ]
     },
     "execution_count": 15,
     "metadata": {},
     "output_type": "execute_result"
    }
   ],
   "source": [
    "{k:v**2 for k, v in d.items()}"
   ]
  },
  {
   "cell_type": "code",
   "execution_count": null,
   "id": "17581184-7910-4fc1-91fc-f0bc30d885d1",
   "metadata": {},
   "outputs": [],
   "source": []
  }
 ],
 "metadata": {
  "kernelspec": {
   "display_name": "Python 3 (ipykernel)",
   "language": "python",
   "name": "python3"
  },
  "language_info": {
   "codemirror_mode": {
    "name": "ipython",
    "version": 3
   },
   "file_extension": ".py",
   "mimetype": "text/x-python",
   "name": "python",
   "nbconvert_exporter": "python",
   "pygments_lexer": "ipython3",
   "version": "3.12.2"
  }
 },
 "nbformat": 4,
 "nbformat_minor": 5
}
